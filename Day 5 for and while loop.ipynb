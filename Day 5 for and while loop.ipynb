{
 "cells": [
  {
   "cell_type": "code",
   "execution_count": 1,
   "id": "cacf0d75",
   "metadata": {},
   "outputs": [
    {
     "name": "stdout",
     "output_type": "stream",
     "text": [
      "0\n",
      "1\n",
      "2\n",
      "3\n",
      "4\n"
     ]
    }
   ],
   "source": [
    "#break statements\n",
    "for i in range(10):\n",
    "    if i==5:\n",
    "        break\n",
    "    print(i)"
   ]
  },
  {
   "cell_type": "code",
   "execution_count": 2,
   "id": "21ba7db5",
   "metadata": {},
   "outputs": [
    {
     "name": "stdout",
     "output_type": "stream",
     "text": [
      "0\n",
      "1\n",
      "2\n",
      "3\n",
      "4\n",
      "6\n",
      "7\n",
      "8\n",
      "9\n"
     ]
    }
   ],
   "source": [
    "#continue statement\n",
    "for i in range(10):\n",
    "    if i==5:\n",
    "        continue\n",
    "    print(i)"
   ]
  },
  {
   "cell_type": "code",
   "execution_count": 5,
   "id": "d5dff298",
   "metadata": {},
   "outputs": [
    {
     "name": "stdout",
     "output_type": "stream",
     "text": [
      "hello world"
     ]
    }
   ],
   "source": [
    "a='hello world. i am python.'\n",
    "for i in a:\n",
    "    if i=='.':\n",
    "        break\n",
    "    print(i,end=\"\")"
   ]
  },
  {
   "cell_type": "code",
   "execution_count": 6,
   "id": "ee6306a0",
   "metadata": {},
   "outputs": [
    {
     "name": "stdout",
     "output_type": "stream",
     "text": [
      "hello world i am python"
     ]
    }
   ],
   "source": [
    "a='hello world. i am python.'\n",
    "for i in a:\n",
    "    if i=='.':\n",
    "        continue\n",
    "    print(i,end=\"\")"
   ]
  },
  {
   "cell_type": "code",
   "execution_count": 7,
   "id": "e660ec41",
   "metadata": {},
   "outputs": [
    {
     "name": "stdout",
     "output_type": "stream",
     "text": [
      "enter n = 8\n",
      "This is composite no\n"
     ]
    }
   ],
   "source": [
    "# forelse loop\n",
    "\n",
    "n= int(input('enter n = '))\n",
    "for i in range(2,n):\n",
    "    if n%i==0:\n",
    "        print('This is composite no')\n",
    "        break\n",
    "else:\n",
    "    print('This is prime no')"
   ]
  },
  {
   "cell_type": "code",
   "execution_count": 8,
   "id": "af472b9e",
   "metadata": {},
   "outputs": [],
   "source": [
    "# while loop\n",
    "\n",
    "# while <condition>:\n",
    "#     <operations>"
   ]
  },
  {
   "cell_type": "code",
   "execution_count": 12,
   "id": "756c18eb",
   "metadata": {},
   "outputs": [
    {
     "name": "stdout",
     "output_type": "stream",
     "text": [
      "0\n",
      "1\n",
      "2\n",
      "3\n",
      "4\n"
     ]
    }
   ],
   "source": [
    "i=0\n",
    "while i<5:\n",
    "    print(i)\n",
    "    i+=1     #incremental operator i=i+1"
   ]
  },
  {
   "cell_type": "code",
   "execution_count": 17,
   "id": "6b66ae60",
   "metadata": {},
   "outputs": [
    {
     "name": "stdout",
     "output_type": "stream",
     "text": [
      "Enter a number : 5\n",
      "5 * 1 = 5\n",
      "5 * 2 = 10\n",
      "5 * 3 = 15\n",
      "5 * 4 = 20\n",
      "5 * 5 = 25\n",
      "5 * 6 = 30\n",
      "5 * 7 = 35\n",
      "5 * 8 = 40\n",
      "5 * 9 = 45\n",
      "5 * 10 = 50\n"
     ]
    }
   ],
   "source": [
    "n=int(input('Enter a number : '))\n",
    "i=1\n",
    "while i<=10:\n",
    "    print(n,'*',i,'=',n*i)\n",
    "    i+=1\n",
    "    \n"
   ]
  },
  {
   "cell_type": "code",
   "execution_count": 19,
   "id": "0a18369e",
   "metadata": {},
   "outputs": [
    {
     "name": "stdout",
     "output_type": "stream",
     "text": [
      "Enter n = 5\n",
      "Enter x= 1\n",
      "Enter x= 2\n",
      "Enter x= 3\n",
      "Enter x= 4\n",
      "Enter x= 5\n",
      "15\n"
     ]
    }
   ],
   "source": [
    "i=0\n",
    "s=0\n",
    "n=int(input('Enter n = '))\n",
    "while i<n:\n",
    "    x=int(input('Enter x= '))\n",
    "    s= s+x\n",
    "    i=i+1\n",
    "print(s)"
   ]
  },
  {
   "cell_type": "code",
   "execution_count": 23,
   "id": "00e685be",
   "metadata": {},
   "outputs": [
    {
     "name": "stdout",
     "output_type": "stream",
     "text": [
      "enter n = 2\n",
      "enter name of the product = apple\n",
      "enter price of the product = 50\n",
      "enter quantity = 2\n",
      "enter name of the product = orange\n",
      "enter price of the product = 60\n",
      "enter quantity = 3\n",
      "\n",
      "Product\tprice\tquantity\ttotal\n",
      "apple\t50.0\t2.0\t100.0\n",
      "orange\t60.0\t3.0\t180.0\n",
      "\n",
      "280.0\n"
     ]
    }
   ],
   "source": [
    "i=0\n",
    "bill=str()\n",
    "all_total=0\n",
    "n=int(input('enter n = '))\n",
    "\n",
    "while i<n:\n",
    "    name=input('enter name of the product = ')\n",
    "    price= float(input('enter price of the product = '))\n",
    "    qty= float(input('enter quantity = '))\n",
    "    total=price*qty\n",
    "    bill=bill+name+'\\t'+str(price)+'\\t'+str(qty)+'\\t'+str(total)+'\\n'\n",
    "    all_total=all_total+total\n",
    "    i=i+1\n",
    "    \n",
    "print('\\nProduct'+'\\t'+'price'+'\\t'+'qty'+'\\t'+'total')\n",
    "print(bill)\n",
    "print(all_total)"
   ]
  },
  {
   "cell_type": "code",
   "execution_count": 30,
   "id": "d156b3d2",
   "metadata": {},
   "outputs": [
    {
     "name": "stdout",
     "output_type": "stream",
     "text": [
      "0\n",
      "1\n",
      "2\n",
      "3\n",
      "4\n"
     ]
    }
   ],
   "source": [
    "i=0\n",
    "while i<=10:\n",
    "    if i==5:\n",
    "        break\n",
    "    print(i)\n",
    "    i=i+1\n",
    "\n",
    "    \n",
    "    "
   ]
  },
  {
   "cell_type": "code",
   "execution_count": 1,
   "id": "56cd9bec",
   "metadata": {},
   "outputs": [
    {
     "name": "stdout",
     "output_type": "stream",
     "text": [
      "0\n",
      "1\n",
      "2\n",
      "3\n",
      "4\n",
      "6\n",
      "7\n",
      "8\n",
      "9\n",
      "10\n"
     ]
    }
   ],
   "source": [
    "i=0\n",
    "while i<=10:\n",
    "    if i==5:\n",
    "        i=i+1\n",
    "        continue\n",
    "    print(i)\n",
    "    i=i+1"
   ]
  },
  {
   "cell_type": "code",
   "execution_count": null,
   "id": "47cf4992",
   "metadata": {},
   "outputs": [],
   "source": []
  },
  {
   "cell_type": "code",
   "execution_count": null,
   "id": "c49cab25",
   "metadata": {},
   "outputs": [],
   "source": []
  }
 ],
 "metadata": {
  "kernelspec": {
   "display_name": "Python 3 (ipykernel)",
   "language": "python",
   "name": "python3"
  },
  "language_info": {
   "codemirror_mode": {
    "name": "ipython",
    "version": 3
   },
   "file_extension": ".py",
   "mimetype": "text/x-python",
   "name": "python",
   "nbconvert_exporter": "python",
   "pygments_lexer": "ipython3",
   "version": "3.11.5"
  }
 },
 "nbformat": 4,
 "nbformat_minor": 5
}

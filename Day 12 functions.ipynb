{
 "cells": [
  {
   "cell_type": "code",
   "execution_count": 2,
   "id": "72c6b242",
   "metadata": {},
   "outputs": [
    {
     "data": {
      "text/plain": [
       "'Hello World'"
      ]
     },
     "execution_count": 2,
     "metadata": {},
     "output_type": "execute_result"
    }
   ],
   "source": [
    "# Return type function\n",
    "\n",
    "def hello():\n",
    "    x='Hello World'\n",
    "    return x\n",
    "\n",
    "hello()"
   ]
  },
  {
   "cell_type": "code",
   "execution_count": 3,
   "id": "9a772bca",
   "metadata": {},
   "outputs": [
    {
     "name": "stdout",
     "output_type": "stream",
     "text": [
      "20\n"
     ]
    }
   ],
   "source": [
    "def cal(l,b):\n",
    "    a= l*b\n",
    "    return a\n",
    "\n",
    "print(cal(10,2))"
   ]
  },
  {
   "cell_type": "code",
   "execution_count": 9,
   "id": "a06c8c6a",
   "metadata": {},
   "outputs": [
    {
     "name": "stdout",
     "output_type": "stream",
     "text": [
      "The area= 20\n",
      "The volume is 60\n"
     ]
    }
   ],
   "source": [
    "def cal(l,b):\n",
    "    a= l*b\n",
    "    return a\n",
    "\n",
    "x=cal(10,2)\n",
    "print('The area=',x)\n",
    "h=3\n",
    "v=x*h\n",
    "print(f'The volume is {v}')"
   ]
  },
  {
   "cell_type": "code",
   "execution_count": 12,
   "id": "66c022c0",
   "metadata": {},
   "outputs": [
    {
     "name": "stdout",
     "output_type": "stream",
     "text": [
      "The area is 20\n",
      "The volume is 60\n"
     ]
    }
   ],
   "source": [
    "def cal(l,b,h):\n",
    "    a= l*b\n",
    "    v=a*h\n",
    "    return a,v\n",
    "\n",
    "area,volume= cal(10,2,3)\n",
    "\n",
    "print(f'The area is {area}')\n",
    "print(f'The volume is {volume}')"
   ]
  },
  {
   "cell_type": "code",
   "execution_count": 14,
   "id": "2354482b",
   "metadata": {},
   "outputs": [
    {
     "name": "stdout",
     "output_type": "stream",
     "text": [
      "Enter a =20\n",
      "Enter b =10\n",
      "Enter Operation : /\n",
      "2.0\n"
     ]
    }
   ],
   "source": [
    "def add(a,b):\n",
    "    return a+b\n",
    "def sub(a,b):\n",
    "    return a-b\n",
    "def mul(a,b):\n",
    "    return a*b\n",
    "def div(a,b):\n",
    "    return a/b\n",
    "\n",
    "a= int(input('Enter a ='))\n",
    "b= int(input('Enter b ='))\n",
    "o= input('Enter Operation : ')\n",
    "\n",
    "if o=='+':\n",
    "    print(add(a,b))\n",
    "elif o==\"-\":\n",
    "    print(sub(a,b))\n",
    "elif o=='*':\n",
    "    print(mul(a,b))\n",
    "elif o=='/':\n",
    "    print(div(a,b))\n",
    "else:\n",
    "    print('Enter valid operator')\n",
    "\n"
   ]
  },
  {
   "cell_type": "code",
   "execution_count": 17,
   "id": "d97f2b00",
   "metadata": {},
   "outputs": [
    {
     "name": "stdout",
     "output_type": "stream",
     "text": [
      "Hello World\n",
      "Hello World\n"
     ]
    }
   ],
   "source": [
    "def hello():\n",
    "    print('Hello World')\n",
    "\n",
    "hello()\n",
    "hello()"
   ]
  },
  {
   "cell_type": "code",
   "execution_count": 18,
   "id": "60a38cf4",
   "metadata": {},
   "outputs": [
    {
     "name": "stdout",
     "output_type": "stream",
     "text": [
      "Hello World\n",
      "Enter y for more printy\n",
      "Hello World\n",
      "Enter y for more printy\n",
      "Hello World\n",
      "Enter y for more printn\n"
     ]
    }
   ],
   "source": [
    "def hello():\n",
    "    print('Hello World')\n",
    "    x=input('Enter y for more print')\n",
    "    if x == 'y':\n",
    "        hello()\n",
    "        \n",
    "\n",
    "hello()"
   ]
  },
  {
   "cell_type": "code",
   "execution_count": 19,
   "id": "40d0839b",
   "metadata": {},
   "outputs": [],
   "source": [
    "# math function\n"
   ]
  },
  {
   "cell_type": "code",
   "execution_count": 20,
   "id": "c1a153d3",
   "metadata": {},
   "outputs": [
    {
     "data": {
      "text/plain": [
       "120"
      ]
     },
     "execution_count": 20,
     "metadata": {},
     "output_type": "execute_result"
    }
   ],
   "source": [
    "import math as m\n",
    "m.factorial(5)"
   ]
  },
  {
   "cell_type": "code",
   "execution_count": 21,
   "id": "d4452133",
   "metadata": {},
   "outputs": [
    {
     "data": {
      "text/plain": [
       "25.0"
      ]
     },
     "execution_count": 21,
     "metadata": {},
     "output_type": "execute_result"
    }
   ],
   "source": [
    "m.pow(5,2)"
   ]
  },
  {
   "cell_type": "code",
   "execution_count": 26,
   "id": "fe1d8c70",
   "metadata": {},
   "outputs": [
    {
     "data": {
      "text/plain": [
       "1.0"
      ]
     },
     "execution_count": 26,
     "metadata": {},
     "output_type": "execute_result"
    }
   ],
   "source": [
    "m.pi\n",
    "\n",
    "m.sin(m.pi/2)"
   ]
  },
  {
   "cell_type": "code",
   "execution_count": 27,
   "id": "bd830f05",
   "metadata": {},
   "outputs": [],
   "source": [
    "# lambda function"
   ]
  },
  {
   "cell_type": "code",
   "execution_count": 28,
   "id": "22127aac",
   "metadata": {},
   "outputs": [],
   "source": [
    "# lambda <arguments>:<operation>"
   ]
  },
  {
   "cell_type": "code",
   "execution_count": 31,
   "id": "6a0fe8ec",
   "metadata": {},
   "outputs": [
    {
     "name": "stdout",
     "output_type": "stream",
     "text": [
      "500\n"
     ]
    }
   ],
   "source": [
    "l=50\n",
    "b=10\n",
    "\n",
    "x= lambda l,b:l*b\n",
    "print(x(l,b))\n"
   ]
  },
  {
   "cell_type": "code",
   "execution_count": 33,
   "id": "3d614c35",
   "metadata": {},
   "outputs": [
    {
     "name": "stdout",
     "output_type": "stream",
     "text": [
      "hello world\n"
     ]
    }
   ],
   "source": [
    "a= 'Hello World'\n",
    "x= lambda a:a.lower()\n",
    "print(x(a))\n"
   ]
  },
  {
   "cell_type": "code",
   "execution_count": null,
   "id": "6078cfa6",
   "metadata": {},
   "outputs": [],
   "source": []
  }
 ],
 "metadata": {
  "kernelspec": {
   "display_name": "Python 3 (ipykernel)",
   "language": "python",
   "name": "python3"
  },
  "language_info": {
   "codemirror_mode": {
    "name": "ipython",
    "version": 3
   },
   "file_extension": ".py",
   "mimetype": "text/x-python",
   "name": "python",
   "nbconvert_exporter": "python",
   "pygments_lexer": "ipython3",
   "version": "3.11.5"
  }
 },
 "nbformat": 4,
 "nbformat_minor": 5
}

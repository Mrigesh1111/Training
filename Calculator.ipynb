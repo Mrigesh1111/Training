{
 "cells": [
  {
   "cell_type": "code",
   "execution_count": 5,
   "id": "7c05f6e7",
   "metadata": {},
   "outputs": [
    {
     "name": "stdout",
     "output_type": "stream",
     "text": [
      "CALCULATOR\n",
      "enter a number:10\n",
      "enter another number:2\n",
      "enter operation + * - / :^\n",
      "100.0\n"
     ]
    }
   ],
   "source": [
    "\n",
    "print('CALCULATOR')\n",
    "a=float(input('enter a number:'))\n",
    "b=float(input('enter another number:'))\n",
    "c=input('enter operation + * - / :')\n",
    "\n",
    "if c=='+':\n",
    "  d=a+b\n",
    "elif c=='-':\n",
    "  d=a-b\n",
    "elif c=='*':\n",
    "  d=a*b\n",
    "elif c=='/':\n",
    "  d=a/b\n",
    "elif c=='^':\n",
    "    d=a**b\n",
    "else:\n",
    "  d='Enter Valid Operator'\n",
    "\n",
    "print(d)\n"
   ]
  },
  {
   "cell_type": "code",
   "execution_count": null,
   "id": "2ffe3010",
   "metadata": {},
   "outputs": [],
   "source": []
  }
 ],
 "metadata": {
  "kernelspec": {
   "display_name": "Python 3 (ipykernel)",
   "language": "python",
   "name": "python3"
  },
  "language_info": {
   "codemirror_mode": {
    "name": "ipython",
    "version": 3
   },
   "file_extension": ".py",
   "mimetype": "text/x-python",
   "name": "python",
   "nbconvert_exporter": "python",
   "pygments_lexer": "ipython3",
   "version": "3.11.5"
  }
 },
 "nbformat": 4,
 "nbformat_minor": 5
}

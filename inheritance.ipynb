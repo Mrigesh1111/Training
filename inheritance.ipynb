{
 "cells": [
  {
   "cell_type": "code",
   "execution_count": 2,
   "id": "4ebf868b",
   "metadata": {},
   "outputs": [],
   "source": [
    "# class A:\n",
    "#     pass\n",
    "\n",
    "# class B(A):\n",
    "#     pass\n",
    "\n",
    "# obj = B()"
   ]
  },
  {
   "cell_type": "code",
   "execution_count": 4,
   "id": "67fb761b",
   "metadata": {},
   "outputs": [
    {
     "name": "stdout",
     "output_type": "stream",
     "text": [
      "hello world i am Ram. I am fromkathmandu. i am 34\n",
      "Ram 34 kathmandu\n"
     ]
    }
   ],
   "source": [
    "class Data:\n",
    "    def __init__(self):\n",
    "        self.name =\"Ram\"\n",
    "        self.age = 34\n",
    "        self.add = \"kathmandu\"\n",
    "        \n",
    "    def data(self):\n",
    "            print( self.name,self.age,self.add)\n",
    "class Info(Data):\n",
    "    def info(self):\n",
    "        print(f\"hello world i am {self.name}. I am from{self.add}. i am {self.age}\")\n",
    "        \n",
    "        \n",
    "obj= Info()\n",
    "obj.info()\n",
    "obj.data()"
   ]
  },
  {
   "cell_type": "code",
   "execution_count": 5,
   "id": "cf1b5040",
   "metadata": {},
   "outputs": [],
   "source": [
    "# multilevel\n",
    "class A:\n",
    "    pass\n",
    "class B(A):\n",
    "    pass\n",
    "class C(B):\n",
    "    pass\n",
    "\n",
    "obj = C()"
   ]
  },
  {
   "cell_type": "code",
   "execution_count": 6,
   "id": "eeee4018",
   "metadata": {},
   "outputs": [],
   "source": [
    "# multilevel\n",
    "class A:\n",
    "    pass\n",
    "class B:\n",
    "    pass\n",
    "class C(A,B):\n",
    "    pass\n",
    "\n",
    "obj = C()"
   ]
  },
  {
   "cell_type": "code",
   "execution_count": 11,
   "id": "880fb177",
   "metadata": {},
   "outputs": [
    {
     "name": "stdout",
     "output_type": "stream",
     "text": [
      "hello world i am Ram. I am from Kathmandu. I am 34\n",
      "Ram 34 Kathmandu\n"
     ]
    }
   ],
   "source": [
    "class Data:\n",
    "    def __init__(self,name,age,add):\n",
    "        self.name=name\n",
    "        self.age=age\n",
    "        self.add=add\n",
    "    def data(self):\n",
    "        print(self.name,self.age,self.add)\n",
    "        \n",
    "class Info(Data):\n",
    "    def info(self):\n",
    "        print(f\"hello world i am {self.name}. I am from {self.add}. I am {self.age}\")\n",
    "        \n",
    "obj = Info(\"Ram\",34,\"Kathmandu\")\n",
    "obj.info()\n",
    "obj.data()"
   ]
  },
  {
   "cell_type": "code",
   "execution_count": 14,
   "id": "e8e2a5f9",
   "metadata": {},
   "outputs": [
    {
     "name": "stdout",
     "output_type": "stream",
     "text": [
      "hello world i am Ram. I am from Kathmandu. I am 34\n",
      "34 Kathmandu\n"
     ]
    }
   ],
   "source": [
    "class Data:\n",
    "    def __init__(self,age,add):\n",
    "        self.age=age\n",
    "        self.add=add\n",
    "    def data(self):\n",
    "        print(self.age,self.add)\n",
    "        \n",
    "class Info(Data):\n",
    "    def __init__(self,name,age,add):\n",
    "        self.name=name\n",
    "        Data.__init__(self,age,add)\n",
    "    def info(self):\n",
    "        print(f\"hello world i am {self.name}. I am from {self.add}. I am {self.age}\")\n",
    "        \n",
    "obj = Info(\"Ram\",34,\"Kathmandu\")\n",
    "\n",
    "obj.info()\n",
    "obj.data()"
   ]
  },
  {
   "cell_type": "code",
   "execution_count": 23,
   "id": "0d059dae",
   "metadata": {},
   "outputs": [
    {
     "name": "stdout",
     "output_type": "stream",
     "text": [
      "hello world i am Ram. I am from Kathmandu. I am 34\n",
      "34 Kathmandu\n",
      "The address is Kathmandu\n"
     ]
    }
   ],
   "source": [
    "class Address:\n",
    "    def __init__(self,add):\n",
    "        self.add =add\n",
    "    def address(self):\n",
    "        print(f\"The address is {self.add}\")\n",
    "\n",
    "class Data(Address):\n",
    "    def __init__(self,age,add):\n",
    "        self.age=age\n",
    "        Address.__init__(self,add)\n",
    "    def data(self):\n",
    "        print(self.age,self.add)\n",
    "        \n",
    "class Info(Data):\n",
    "    def __init__(self,name,age,add):\n",
    "        self.name=name\n",
    "        Data.__init__(self,age,add)\n",
    "    def info(self):\n",
    "        print(f\"hello world i am {self.name}. I am from {self.add}. I am {self.age}\")\n",
    "        \n",
    "obj = Info(\"Ram\",34,\"Kathmandu\")\n",
    "\n",
    "obj.info()\n",
    "obj.data()\n",
    "obj.address()"
   ]
  },
  {
   "cell_type": "code",
   "execution_count": 27,
   "id": "4b85f7f3",
   "metadata": {},
   "outputs": [
    {
     "name": "stdout",
     "output_type": "stream",
     "text": [
      "hello world i am Ram. i am 34\n",
      "Ram 34 kathmandu\n"
     ]
    }
   ],
   "source": [
    "# Private, Protected and public member\n",
    "\n",
    "\n",
    "class Data:\n",
    "    def __init__(self):\n",
    "        self.name =\"Ram\"\n",
    "        self._age = 34\n",
    "        self.__add = \"kathmandu\"\n",
    "        \n",
    "    def data(self):\n",
    "            print( self.name,self._age,self.__add)\n",
    "class Info(Data):\n",
    "    def info(self):\n",
    "        print(f\"hello world i am {self.name}. i am {self._age}\")\n",
    "        \n",
    "        \n",
    "obj= Info()\n",
    "obj.info()\n",
    "obj.data()"
   ]
  },
  {
   "cell_type": "code",
   "execution_count": null,
   "id": "100ffd10",
   "metadata": {},
   "outputs": [],
   "source": []
  }
 ],
 "metadata": {
  "kernelspec": {
   "display_name": "Python 3 (ipykernel)",
   "language": "python",
   "name": "python3"
  },
  "language_info": {
   "codemirror_mode": {
    "name": "ipython",
    "version": 3
   },
   "file_extension": ".py",
   "mimetype": "text/x-python",
   "name": "python",
   "nbconvert_exporter": "python",
   "pygments_lexer": "ipython3",
   "version": "3.11.5"
  }
 },
 "nbformat": 4,
 "nbformat_minor": 5
}

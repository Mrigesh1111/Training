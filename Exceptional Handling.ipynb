{
 "cells": [
  {
   "cell_type": "code",
   "execution_count": 1,
   "id": "fb61fe3d",
   "metadata": {},
   "outputs": [
    {
     "name": "stdout",
     "output_type": "stream",
     "text": [
      "There is no such file\n"
     ]
    }
   ],
   "source": [
    "try:\n",
    "    file=open('data.tsv')\n",
    "    file.close()\n",
    "except:\n",
    "    print('There is no such file')\n"
   ]
  },
  {
   "cell_type": "code",
   "execution_count": 3,
   "id": "6b7dd602",
   "metadata": {},
   "outputs": [
    {
     "name": "stdout",
     "output_type": "stream",
     "text": [
      "Enter a value :ten\n",
      "Enter int value\n"
     ]
    }
   ],
   "source": [
    "try:\n",
    "    a=int(input('Enter a value :'))\n",
    "except:\n",
    "    print('Enter int value')"
   ]
  },
  {
   "cell_type": "code",
   "execution_count": 5,
   "id": "16c1395f",
   "metadata": {},
   "outputs": [
    {
     "name": "stdout",
     "output_type": "stream",
     "text": [
      "Enter a = 10\n",
      "Enter b = 20\n"
     ]
    }
   ],
   "source": [
    "try:\n",
    "    a = int(input('Enter a = '))\n",
    "    b= int(input('Enter b = '))\n",
    "except:\n",
    "    print('Error int value in both')"
   ]
  },
  {
   "cell_type": "code",
   "execution_count": 18,
   "id": "602c8f18",
   "metadata": {},
   "outputs": [
    {
     "name": "stdout",
     "output_type": "stream",
     "text": [
      "Enter a = 10\n",
      "Enter b = 0\n",
      "Value of b cannot be zero\n"
     ]
    }
   ],
   "source": [
    "try:\n",
    "    a = int(input('Enter a = '))\n",
    "    b= int(input('Enter b = '))\n",
    "    c=a/b\n",
    "    print(c)\n",
    "except ValueError:\n",
    "    print('Error')\n",
    "except ZeroDivisionError:\n",
    "    print('Value of b cannot be zero')\n",
    "    "
   ]
  },
  {
   "cell_type": "code",
   "execution_count": 9,
   "id": "07ba579d",
   "metadata": {},
   "outputs": [
    {
     "name": "stdout",
     "output_type": "stream",
     "text": [
      "Enter a = 10\n",
      "Enter b = 0\n"
     ]
    },
    {
     "ename": "ZeroDivisionError",
     "evalue": "division by zero",
     "output_type": "error",
     "traceback": [
      "\u001b[1;31m---------------------------------------------------------------------------\u001b[0m",
      "\u001b[1;31mZeroDivisionError\u001b[0m                         Traceback (most recent call last)",
      "Cell \u001b[1;32mIn[9], line 3\u001b[0m\n\u001b[0;32m      1\u001b[0m a \u001b[38;5;241m=\u001b[39m \u001b[38;5;28mint\u001b[39m(\u001b[38;5;28minput\u001b[39m(\u001b[38;5;124m'\u001b[39m\u001b[38;5;124mEnter a = \u001b[39m\u001b[38;5;124m'\u001b[39m))\n\u001b[0;32m      2\u001b[0m b \u001b[38;5;241m=\u001b[39m \u001b[38;5;28mint\u001b[39m(\u001b[38;5;28minput\u001b[39m(\u001b[38;5;124m'\u001b[39m\u001b[38;5;124mEnter b = \u001b[39m\u001b[38;5;124m'\u001b[39m))\n\u001b[1;32m----> 3\u001b[0m a\u001b[38;5;241m/\u001b[39mb\n",
      "\u001b[1;31mZeroDivisionError\u001b[0m: division by zero"
     ]
    }
   ],
   "source": [
    "a = int(input('Enter a = '))\n",
    "b = int(input('Enter b = '))\n",
    "a/b\n"
   ]
  },
  {
   "cell_type": "code",
   "execution_count": 14,
   "id": "07d8841d",
   "metadata": {},
   "outputs": [
    {
     "name": "stdout",
     "output_type": "stream",
     "text": [
      "enter a =ten\n",
      "Enter int value\n",
      "enter a =10\n",
      "enter b = ten\n",
      "Enter int value\n",
      "enter a =10\n",
      "enter b = 1\n",
      "10.0\n"
     ]
    }
   ],
   "source": [
    "def cal():\n",
    "    try:\n",
    "        def a_value():\n",
    "            a=int(input('enter a ='))\n",
    "            return a\n",
    "        def b_value():\n",
    "            b=int(input('enter b = '))\n",
    "            return b\n",
    "        \n",
    "        c=a_value()/b_value()\n",
    "        print(c)\n",
    "    except ValueError:\n",
    "        print('Enter int value')\n",
    "        cal()\n",
    "    except ZeroDivisionError:\n",
    "        print('Value of b cannot be zero')\n",
    "        cal()\n",
    "cal()"
   ]
  },
  {
   "cell_type": "code",
   "execution_count": 58,
   "id": "dda1a67d",
   "metadata": {},
   "outputs": [
    {
     "name": "stdout",
     "output_type": "stream",
     "text": [
      "Enter a = 2\n",
      "Enter b = sd\n",
      "Error\n",
      "Enter b = 0\n",
      "Value of b cannot be zero\n",
      "Enter b = 1\n",
      "The division is 2.0\n"
     ]
    }
   ],
   "source": [
    "def cal():\n",
    "    try:\n",
    "        global a\n",
    "        a = int(input('Enter a = '))\n",
    "    except ValueError:\n",
    "        print('Error')\n",
    "        cal()\n",
    "    except ZeroDivisionError:\n",
    "        print('Value of a cannot be zero')\n",
    "        cal()\n",
    "cal()\n",
    "\n",
    "def bcal():\n",
    "    try:\n",
    "        b= int(input('Enter b = '))\n",
    "        c=a/b\n",
    "        print('The division is',c)\n",
    "    except ValueError:\n",
    "        print('Error')\n",
    "        bcal()\n",
    "    except ZeroDivisionError:\n",
    "        print('Value of b cannot be zero')\n",
    "        bcal()\n",
    "\n",
    "bcal()\n"
   ]
  },
  {
   "cell_type": "code",
   "execution_count": null,
   "id": "4412ae1f",
   "metadata": {},
   "outputs": [],
   "source": []
  }
 ],
 "metadata": {
  "kernelspec": {
   "display_name": "Python 3 (ipykernel)",
   "language": "python",
   "name": "python3"
  },
  "language_info": {
   "codemirror_mode": {
    "name": "ipython",
    "version": 3
   },
   "file_extension": ".py",
   "mimetype": "text/x-python",
   "name": "python",
   "nbconvert_exporter": "python",
   "pygments_lexer": "ipython3",
   "version": "3.11.5"
  }
 },
 "nbformat": 4,
 "nbformat_minor": 5
}

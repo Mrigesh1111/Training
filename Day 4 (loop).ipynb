{
 "cells": [
  {
   "cell_type": "code",
   "execution_count": 2,
   "id": "2df74069",
   "metadata": {},
   "outputs": [
    {
     "name": "stdout",
     "output_type": "stream",
     "text": [
      "Enter n = 3\n",
      "Enter name = Mrigesh\n",
      "Mrigesh\n",
      "Enter name = shrestha\n",
      "shrestha\n",
      "Enter name = ebl\n",
      "ebl\n"
     ]
    }
   ],
   "source": [
    "n=int(input('Enter n = '))\n",
    "for i in range(n):\n",
    "    x=input('Enter name = ')\n",
    "    print(x)"
   ]
  },
  {
   "cell_type": "code",
   "execution_count": 6,
   "id": "c7bdf725",
   "metadata": {},
   "outputs": [
    {
     "name": "stdout",
     "output_type": "stream",
     "text": [
      "Enter n= 5\n",
      "enter x =1\n",
      "enter x =2\n",
      "enter x =3\n",
      "enter x =4\n",
      "enter x =5\n",
      "15\n"
     ]
    }
   ],
   "source": [
    "s=0\n",
    "n=int(input('Enter n= '))\n",
    "for i in range(n):\n",
    "    x=int(input('enter x ='))\n",
    "    s=s+x\n",
    "print(s)"
   ]
  },
  {
   "cell_type": "code",
   "execution_count": 8,
   "id": "aa49e772",
   "metadata": {},
   "outputs": [
    {
     "name": "stdout",
     "output_type": "stream",
     "text": [
      "Enter n= 5\n",
      "enter x =1\n",
      "1\n",
      "enter x =2\n",
      "3\n",
      "enter x =3\n",
      "6\n",
      "enter x =4\n",
      "10\n",
      "enter x =5\n",
      "15\n"
     ]
    }
   ],
   "source": [
    "s=0\n",
    "n=int(input('Enter n= '))\n",
    "for i in range(n):\n",
    "    x=int(input('enter x ='))\n",
    "    s=s+x\n",
    "    print(s)      #Position of print is different from the above"
   ]
  },
  {
   "cell_type": "code",
   "execution_count": 12,
   "id": "07a404b1",
   "metadata": {},
   "outputs": [
    {
     "name": "stdout",
     "output_type": "stream",
     "text": [
      "Enter n= 2\n",
      "enter x =Ram\n",
      "enter x =Shyam\n",
      "Ram\n",
      "Shyam\n",
      "\n"
     ]
    }
   ],
   "source": [
    "s=str()\n",
    "n=int(input('Enter n= '))\n",
    "for i in range(n):\n",
    "    x=input('enter x =')\n",
    "    s=s+x+'\\n'\n",
    "    \n",
    "print(s)"
   ]
  },
  {
   "cell_type": "code",
   "execution_count": 14,
   "id": "5177c748",
   "metadata": {},
   "outputs": [
    {
     "name": "stdout",
     "output_type": "stream",
     "text": [
      "Enter n= 2\n",
      "enter name = ram\n",
      "Enter Phone = 12456\n",
      "enter name = shyam\n",
      "Enter Phone = 987654\n",
      "ram\t12456\n",
      "shyam\t987654\n",
      "\n"
     ]
    }
   ],
   "source": [
    "s=str()\n",
    "n=int(input('Enter n= '))\n",
    "for i in range(n):\n",
    "    name=input('enter name = ')\n",
    "    phone=input('Enter Phone = ')\n",
    "    s=s+name+'\\t'+phone+'\\n'\n",
    "    \n",
    "print(s)"
   ]
  },
  {
   "cell_type": "code",
   "execution_count": 1,
   "id": "362f8949",
   "metadata": {},
   "outputs": [
    {
     "name": "stdout",
     "output_type": "stream",
     "text": [
      "Enter n= 2\n",
      "enter name of product = apple\n",
      "Enter Price of the product = 50\n",
      "enter quantity = 2\n",
      "enter name of product = orange\n",
      "Enter Price of the product = 60\n",
      "enter quantity = 3\n",
      "Product\tPrice\tqty\tTotal\n",
      "apple\t50.0\t2.0\t100.0\n",
      "orange\t60.0\t3.0\t180.0\n",
      "\n",
      "180.0\n",
      "All total price=  280.0\n"
     ]
    }
   ],
   "source": [
    "bill=str()\n",
    "all_total=0\n",
    "n=int(input('Enter n= '))\n",
    "for i in range(n):\n",
    "    name=input('enter name of product = ')\n",
    "    price=float(input('Enter Price of the product = '))\n",
    "    qty=float(input('enter quantity = '))\n",
    "    total=price*qty\n",
    "    bill= bill+name+'\\t'+str(price)+'\\t'+str(qty)+'\\t'+str(total)+'\\n'\n",
    "    all_total=all_total+total\n",
    "print('Product'+'\\t'+'Price'+'\\t'+'qty'+'\\t'+'Total')    \n",
    "print(bill)\n",
    "print('All total price= ',all_total)"
   ]
  },
  {
   "cell_type": "code",
   "execution_count": 8,
   "id": "8eaa0734",
   "metadata": {},
   "outputs": [
    {
     "name": "stdout",
     "output_type": "stream",
     "text": [
      "1\n",
      "2\n",
      "6\n",
      "24\n",
      "120\n"
     ]
    }
   ],
   "source": [
    "#5! = 1*2*3*4*5\n",
    "fac=1\n",
    "for i in range(1,6):\n",
    "    fac=fac*i\n",
    "    \n",
    "    print(fac)"
   ]
  },
  {
   "cell_type": "code",
   "execution_count": 17,
   "id": "4ffd65fc",
   "metadata": {},
   "outputs": [
    {
     "name": "stdout",
     "output_type": "stream",
     "text": [
      "P\n",
      "h\n",
      "y\n",
      "t\n",
      "o\n",
      "n\n"
     ]
    }
   ],
   "source": [
    "#for loop in string\n",
    "a='Phyton'\n",
    "for i in a:\n",
    "    print(i)"
   ]
  },
  {
   "cell_type": "code",
   "execution_count": 18,
   "id": "9fb325e1",
   "metadata": {},
   "outputs": [
    {
     "name": "stdout",
     "output_type": "stream",
     "text": [
      "h.e.l.l.o. .w.o.r.l.d. .i. .a.m. .P.h.y.t.o.n."
     ]
    }
   ],
   "source": [
    "a='hello world i am Phyton'\n",
    "for i in a:\n",
    "    print(i, end=\".\")"
   ]
  },
  {
   "cell_type": "code",
   "execution_count": 27,
   "id": "e614499b",
   "metadata": {},
   "outputs": [
    {
     "name": "stdout",
     "output_type": "stream",
     "text": [
      "hello world i am Phyton"
     ]
    }
   ],
   "source": [
    "a='hello world. i am Phyton.'\n",
    "for i in a:\n",
    "    if i!='.':\n",
    "        print(i,end=\"\")"
   ]
  },
  {
   "cell_type": "code",
   "execution_count": null,
   "id": "e31368c2",
   "metadata": {},
   "outputs": [],
   "source": [
    "#control statements"
   ]
  }
 ],
 "metadata": {
  "kernelspec": {
   "display_name": "Python 3 (ipykernel)",
   "language": "python",
   "name": "python3"
  },
  "language_info": {
   "codemirror_mode": {
    "name": "ipython",
    "version": 3
   },
   "file_extension": ".py",
   "mimetype": "text/x-python",
   "name": "python",
   "nbconvert_exporter": "python",
   "pygments_lexer": "ipython3",
   "version": "3.11.5"
  }
 },
 "nbformat": 4,
 "nbformat_minor": 5
}

{
 "cells": [
  {
   "cell_type": "code",
   "execution_count": 12,
   "id": "23e151b7",
   "metadata": {},
   "outputs": [
    {
     "name": "stdout",
     "output_type": "stream",
     "text": [
      "H\n",
      "Hello\n",
      "HloWr\n"
     ]
    }
   ],
   "source": [
    "a='Hello World'\n",
    "print(a[0])\n",
    "print(a[0:5])\n",
    "print(a[0:10:2])"
   ]
  },
  {
   "cell_type": "code",
   "execution_count": 18,
   "id": "6dfba1a1",
   "metadata": {},
   "outputs": [
    {
     "data": {
      "text/plain": [
       "'dlroW olleH'"
      ]
     },
     "execution_count": 18,
     "metadata": {},
     "output_type": "execute_result"
    }
   ],
   "source": [
    "a='Hello World'\n",
    "a[-1:-12:-1]"
   ]
  },
  {
   "cell_type": "code",
   "execution_count": 19,
   "id": "93542f13",
   "metadata": {},
   "outputs": [
    {
     "data": {
      "text/plain": [
       "'dlroW olleH'"
      ]
     },
     "execution_count": 19,
     "metadata": {},
     "output_type": "execute_result"
    }
   ],
   "source": [
    "a[::-1]"
   ]
  },
  {
   "cell_type": "code",
   "execution_count": 22,
   "id": "18cb31c2",
   "metadata": {},
   "outputs": [
    {
     "name": "stdout",
     "output_type": "stream",
     "text": [
      "Hello World\n",
      "Hello\n",
      " World\n"
     ]
    }
   ],
   "source": [
    "a='Hello World'\n",
    "b=a[:5]\n",
    "c=a[5:]\n",
    "print(a)\n",
    "print(b)\n",
    "print(c)"
   ]
  },
  {
   "cell_type": "code",
   "execution_count": 23,
   "id": "fa781e2b",
   "metadata": {},
   "outputs": [
    {
     "data": {
      "text/plain": [
       "11"
      ]
     },
     "execution_count": 23,
     "metadata": {},
     "output_type": "execute_result"
    }
   ],
   "source": [
    "a='Hello World'\n",
    "len(a)"
   ]
  },
  {
   "cell_type": "code",
   "execution_count": 27,
   "id": "4a2a17a8",
   "metadata": {},
   "outputs": [
    {
     "name": "stdout",
     "output_type": "stream",
     "text": [
      "enter a number:2003\n",
      "The number is not palindrome\n"
     ]
    }
   ],
   "source": [
    "a=input('enter a number:')\n",
    "if a==a[::-1]:\n",
    "    print('The Number is Palindrome')\n",
    "else:\n",
    "    print('The number is not palindrome')"
   ]
  },
  {
   "cell_type": "code",
   "execution_count": 31,
   "id": "46965a23",
   "metadata": {},
   "outputs": [
    {
     "name": "stdout",
     "output_type": "stream",
     "text": [
      "hello i am Ram i am from kathmandu i am 34\n"
     ]
    }
   ],
   "source": [
    "# string formatting\n",
    "\n",
    "name=\"Ram\"\n",
    "age=34\n",
    "add= 'kathmandu'\n",
    "info=f\"hello i am {name} i am from {add} i am {age}\"\n",
    "print(info)"
   ]
  },
  {
   "cell_type": "code",
   "execution_count": 32,
   "id": "6e0aab8e",
   "metadata": {},
   "outputs": [
    {
     "name": "stdout",
     "output_type": "stream",
     "text": [
      "yes\n"
     ]
    }
   ],
   "source": [
    "# search in string\n",
    "names= \"ram shyam hari sita gita ramesh\"\n",
    "if \"ram\" in names:\n",
    "    print('yes')\n",
    "else:\n",
    "    print('No')"
   ]
  },
  {
   "cell_type": "code",
   "execution_count": 39,
   "id": "95190f5c",
   "metadata": {},
   "outputs": [
    {
     "name": "stdout",
     "output_type": "stream",
     "text": [
      "yes\n",
      "6\n"
     ]
    }
   ],
   "source": [
    "names= \"ram shyam hari sita gita ramesh\"\n",
    "if \"a\" in names:\n",
    "    print('yes')\n",
    "    print(names.count(\"a\"))\n",
    "else:\n",
    "    print('No')"
   ]
  },
  {
   "cell_type": "code",
   "execution_count": 44,
   "id": "8077dbe7",
   "metadata": {},
   "outputs": [
    {
     "name": "stdout",
     "output_type": "stream",
     "text": [
      "Enter search name= ram\n",
      "yes\n",
      "2\n"
     ]
    }
   ],
   "source": [
    "names= \"ram shyam hari sita gita ramesh\"\n",
    "search= input('Enter search name= ')\n",
    "if search in names:\n",
    "    print('yes')\n",
    "    print(names.count(search))\n",
    "else:\n",
    "    print('No')"
   ]
  },
  {
   "cell_type": "code",
   "execution_count": 47,
   "id": "f684717d",
   "metadata": {},
   "outputs": [
    {
     "name": "stdout",
     "output_type": "stream",
     "text": [
      "ram shyam hari sita gita ramesh\n",
      "RAM SHYAM HARI SITA GITA RAMESH\n"
     ]
    }
   ],
   "source": [
    "names= \"ram shyam hari sita gita ramesh\"\n",
    "print(names.lower())\n",
    "print(names.upper())"
   ]
  },
  {
   "cell_type": "code",
   "execution_count": 48,
   "id": "a104455a",
   "metadata": {},
   "outputs": [
    {
     "name": "stdout",
     "output_type": "stream",
     "text": [
      "Enter search name= Ram\n",
      "yes\n",
      "2\n"
     ]
    }
   ],
   "source": [
    "names= \"ram shyam hari sita gita ramesh\".lower()\n",
    "search= input('Enter search name= ').lower()\n",
    "if search in names:\n",
    "    print('yes')\n",
    "    print(names.count(search))\n",
    "else:\n",
    "    print('No')"
   ]
  },
  {
   "cell_type": "code",
   "execution_count": 50,
   "id": "0a4a5d54",
   "metadata": {},
   "outputs": [
    {
     "data": {
      "text/plain": [
       "'Ram Shyam Hari Sita Gita Ramesh'"
      ]
     },
     "execution_count": 50,
     "metadata": {},
     "output_type": "execute_result"
    }
   ],
   "source": [
    "a=\"ram shyam hari sita gita ramesh\"\n",
    "a.title()"
   ]
  },
  {
   "cell_type": "code",
   "execution_count": 58,
   "id": "6b8af708",
   "metadata": {},
   "outputs": [
    {
     "name": "stdout",
     "output_type": "stream",
     "text": [
      "Hello World"
     ]
    }
   ],
   "source": [
    "# string with while loop\n",
    "\n",
    "a='Hello World'\n",
    "l=len(a)\n",
    "i=0\n",
    "while i<l:\n",
    "    print(a[i],end=\"\")\n",
    "    i=i+1"
   ]
  },
  {
   "cell_type": "code",
   "execution_count": null,
   "id": "a6b69012",
   "metadata": {},
   "outputs": [],
   "source": []
  }
 ],
 "metadata": {
  "kernelspec": {
   "display_name": "Python 3 (ipykernel)",
   "language": "python",
   "name": "python3"
  },
  "language_info": {
   "codemirror_mode": {
    "name": "ipython",
    "version": 3
   },
   "file_extension": ".py",
   "mimetype": "text/x-python",
   "name": "python",
   "nbconvert_exporter": "python",
   "pygments_lexer": "ipython3",
   "version": "3.11.5"
  }
 },
 "nbformat": 4,
 "nbformat_minor": 5
}

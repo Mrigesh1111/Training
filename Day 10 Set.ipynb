{
 "cells": [
  {
   "cell_type": "code",
   "execution_count": 2,
   "id": "21c2d6e5",
   "metadata": {},
   "outputs": [
    {
     "data": {
      "text/plain": [
       "{'a': 'Apple', 'b': 'Ball', 'c': 'Cat'}"
      ]
     },
     "execution_count": 2,
     "metadata": {},
     "output_type": "execute_result"
    }
   ],
   "source": [
    "# No list, dictionary and set as key (mutable)\n",
    "\n",
    "d={'a':'Apple','b':'Ball','c':'Cat'}\n",
    "\n",
    "d\n"
   ]
  },
  {
   "cell_type": "code",
   "execution_count": 4,
   "id": "1922b7af",
   "metadata": {},
   "outputs": [],
   "source": [
    "# set\n",
    "# Multiple data\n",
    "# No duplicate data\n",
    "# No indexing\n",
    "# Immutable datatype\n",
    "# Unordered"
   ]
  },
  {
   "cell_type": "code",
   "execution_count": 13,
   "id": "8e7f18b1",
   "metadata": {},
   "outputs": [
    {
     "name": "stdout",
     "output_type": "stream",
     "text": [
      "{1, 2, 3, 4, 5, 6, 7, 8, 9}\n"
     ]
    }
   ],
   "source": [
    "s={1,2,3,4,5,6,7,8,9}\n",
    "print(s)\n"
   ]
  },
  {
   "cell_type": "code",
   "execution_count": 17,
   "id": "45f9bfc9",
   "metadata": {},
   "outputs": [
    {
     "name": "stdout",
     "output_type": "stream",
     "text": [
      "{'Apple', 'Cat', 'Ball', 'Dog'}\n"
     ]
    }
   ],
   "source": [
    "s={'Apple','Ball','Cat','Dog','Apple'}\n",
    "print(s)\n"
   ]
  },
  {
   "cell_type": "code",
   "execution_count": 18,
   "id": "7ff4881d",
   "metadata": {},
   "outputs": [],
   "source": [
    "# No list, dict, set inside set (no mutable datatype)\n"
   ]
  },
  {
   "cell_type": "code",
   "execution_count": 21,
   "id": "bc10f3a4",
   "metadata": {},
   "outputs": [
    {
     "name": "stdout",
     "output_type": "stream",
     "text": [
      "{('Apple', 'Ball'), ('Cat', 'Dog', 'Apple')}\n"
     ]
    }
   ],
   "source": [
    "s={('Apple','Ball'),('Cat','Dog','Apple')}\n",
    "print(s)"
   ]
  },
  {
   "cell_type": "code",
   "execution_count": 22,
   "id": "5d211cc5",
   "metadata": {},
   "outputs": [
    {
     "data": {
      "text/plain": [
       "{1, 2, 3, 4, 5, 6}"
      ]
     },
     "execution_count": 22,
     "metadata": {},
     "output_type": "execute_result"
    }
   ],
   "source": [
    "a={1,2,3}\n",
    "b={4,5,6}\n",
    "# No print(a+b)\n",
    "a.update(b)\n",
    "a"
   ]
  },
  {
   "cell_type": "code",
   "execution_count": 30,
   "id": "379b0561",
   "metadata": {},
   "outputs": [
    {
     "name": "stdout",
     "output_type": "stream",
     "text": [
      "{'Ram'}\n",
      "{'Jobs', 'Sameer', 'Shyam', 'Nabin', 'John', 'Ram', 'Gates', 'Bill'}\n",
      "{'John', 'Gates', 'Shyam', 'Bill'}\n",
      "{'Jobs', 'Nabin', 'Sameer'}\n",
      "{'abc', 'xyz'}\n"
     ]
    }
   ],
   "source": [
    "U={'Jobs', 'Sameer', 'Shyam', 'Nabin', 'John', 'Ram', 'Gates', 'Bill','xyz','abc'}\n",
    "\n",
    "ms= {'Ram','Shyam','Bill','Gates','John'}\n",
    "apple={'Jobs',\"Ram\",'Nabin','Sameer'}\n",
    "\n",
    "print(ms.intersection(apple)) #common in both set\n",
    "\n",
    "print(ms.union(apple))    #union of both set\n",
    "\n",
    "print(ms-apple)    #only in ms can also be coded as ms.difference(apple)\n",
    "\n",
    "print(apple - ms)    #only in apple can also be coded as apple.difference(ms)\n",
    "\n",
    "print(U - ms.union(apple))"
   ]
  },
  {
   "cell_type": "code",
   "execution_count": 34,
   "id": "3775f13f",
   "metadata": {},
   "outputs": [
    {
     "data": {
      "text/plain": [
       "{'Ball'}"
      ]
     },
     "execution_count": 34,
     "metadata": {},
     "output_type": "execute_result"
    }
   ],
   "source": [
    "s=set()\n",
    "\n",
    "s.add('apple')\n",
    "s.add('Ball')\n",
    "\n",
    "s\n",
    "s.remove('apple')\n",
    "s"
   ]
  },
  {
   "cell_type": "code",
   "execution_count": null,
   "id": "f0b1d3b1",
   "metadata": {},
   "outputs": [],
   "source": []
  }
 ],
 "metadata": {
  "kernelspec": {
   "display_name": "Python 3 (ipykernel)",
   "language": "python",
   "name": "python3"
  },
  "language_info": {
   "codemirror_mode": {
    "name": "ipython",
    "version": 3
   },
   "file_extension": ".py",
   "mimetype": "text/x-python",
   "name": "python",
   "nbconvert_exporter": "python",
   "pygments_lexer": "ipython3",
   "version": "3.11.5"
  }
 },
 "nbformat": 4,
 "nbformat_minor": 5
}

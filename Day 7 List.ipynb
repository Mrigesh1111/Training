{
 "cells": [
  {
   "cell_type": "code",
   "execution_count": 1,
   "id": "93a81684",
   "metadata": {},
   "outputs": [],
   "source": [
    "# Python Collection\n",
    "# List\n",
    "# tuple\n",
    "# dict\n",
    "# set"
   ]
  },
  {
   "cell_type": "code",
   "execution_count": 2,
   "id": "4353df60",
   "metadata": {},
   "outputs": [],
   "source": [
    "# list\n",
    "# - multiple data\n",
    "# - duplicate data\n",
    "# - indexing\n",
    "# - Mutable datatype"
   ]
  },
  {
   "cell_type": "code",
   "execution_count": 3,
   "id": "2c7a2463",
   "metadata": {},
   "outputs": [
    {
     "name": "stdout",
     "output_type": "stream",
     "text": [
      "<class 'list'>\n",
      "<class 'list'>\n"
     ]
    }
   ],
   "source": [
    "a=[\"Apple\",\"Ball\",\"Cat\",\"Dog\"]\n",
    "b=[1,2,3,4,5,6,7,8,9]\n",
    "print(type(a))\n",
    "print(type(b))"
   ]
  },
  {
   "cell_type": "code",
   "execution_count": 5,
   "id": "02964bae",
   "metadata": {},
   "outputs": [
    {
     "data": {
      "text/plain": [
       "[]"
      ]
     },
     "execution_count": 5,
     "metadata": {},
     "output_type": "execute_result"
    }
   ],
   "source": [
    "l=list()\n",
    "l"
   ]
  },
  {
   "cell_type": "code",
   "execution_count": 6,
   "id": "18c2b539",
   "metadata": {},
   "outputs": [
    {
     "name": "stdout",
     "output_type": "stream",
     "text": [
      "<class 'list'>\n",
      "<class 'list'>\n"
     ]
    }
   ],
   "source": [
    "a=[\"Apple\",\"Ball\",\"Cat\",\"Dog\",\"Apple\"]\n",
    "b=[1,2,3,4,5,6,7,8,9]\n",
    "print(type(a))\n",
    "print(type(b))"
   ]
  },
  {
   "cell_type": "code",
   "execution_count": 23,
   "id": "7d6d7fce",
   "metadata": {},
   "outputs": [
    {
     "name": "stdout",
     "output_type": "stream",
     "text": [
      "['Apple', 'Cat', 'Apple']\n",
      "['Apple', 'Cat', 'Apple']\n",
      "['Apple', 'Dog', 'Cat', 'Ball', 'Apple']\n"
     ]
    }
   ],
   "source": [
    "a=[\"Apple\",\"Ball\",\"Cat\",\"Dog\",\"Apple\"]\n",
    "a[3]\n",
    "print(a[0:500:2])\n",
    "print(a[::2])\n",
    "print(a[::-1])"
   ]
  },
  {
   "cell_type": "code",
   "execution_count": 27,
   "id": "9b385f78",
   "metadata": {},
   "outputs": [
    {
     "name": "stdout",
     "output_type": "stream",
     "text": [
      "5\n",
      "[1, 2, 3, 4, 5, 6, 4, 4, 4]\n",
      "[1, 2, 3, 4, 5, 6, 1, 2, 3, 4, 5, 6]\n"
     ]
    }
   ],
   "source": [
    "a=[1,2,3,4,5,6]\n",
    "b=[4,4,4]\n",
    "c=a+b\n",
    "print(a[0]+b[1])\n",
    "print(c)\n",
    "print(a*2)"
   ]
  },
  {
   "cell_type": "code",
   "execution_count": 28,
   "id": "0fd8ae8e",
   "metadata": {},
   "outputs": [],
   "source": [
    "# append() insert() extend()"
   ]
  },
  {
   "cell_type": "code",
   "execution_count": 30,
   "id": "5d9eb125",
   "metadata": {},
   "outputs": [
    {
     "data": {
      "text/plain": [
       "[1, 2, 3, 4]"
      ]
     },
     "execution_count": 30,
     "metadata": {},
     "output_type": "execute_result"
    }
   ],
   "source": [
    "a= [1,2,3]\n",
    "a.append(4)\n",
    "a\n",
    "\n",
    "# since 4 will be added to original list\n",
    "# the list is mutable\n",
    "# append will always add in last"
   ]
  },
  {
   "cell_type": "code",
   "execution_count": 36,
   "id": "f10c993c",
   "metadata": {},
   "outputs": [
    {
     "data": {
      "text/plain": [
       "[4, 1, 2, 3]"
      ]
     },
     "execution_count": 36,
     "metadata": {},
     "output_type": "execute_result"
    }
   ],
   "source": [
    "a= [1,2,3]\n",
    "a.insert(0,4)\n",
    "a"
   ]
  },
  {
   "cell_type": "code",
   "execution_count": 3,
   "id": "b7f6a997",
   "metadata": {},
   "outputs": [
    {
     "data": {
      "text/plain": [
       "[1, 2, 3, 4, 0, 0, 0, 0]"
      ]
     },
     "execution_count": 3,
     "metadata": {},
     "output_type": "execute_result"
    }
   ],
   "source": [
    "a=[1,2,3,4]\n",
    "b=[0,0,0,0]\n",
    "a.extend(b)\n",
    "a"
   ]
  },
  {
   "cell_type": "code",
   "execution_count": 42,
   "id": "d0c90dc8",
   "metadata": {},
   "outputs": [
    {
     "data": {
      "text/plain": [
       "[4, 2, 3]"
      ]
     },
     "execution_count": 42,
     "metadata": {},
     "output_type": "execute_result"
    }
   ],
   "source": [
    "# Update\n",
    "a=[1,2,3]\n",
    "a[0]=4\n",
    "a"
   ]
  },
  {
   "cell_type": "code",
   "execution_count": 43,
   "id": "d4b6aad4",
   "metadata": {},
   "outputs": [
    {
     "name": "stdout",
     "output_type": "stream",
     "text": [
      "Enter the value of n5\n",
      "Enter the value of x:1\n",
      "Enter the value of x:2\n",
      "Enter the value of x:3\n",
      "Enter the value of x:4\n",
      "Enter the value of x:5\n",
      "[1, 2, 3, 4, 5]\n"
     ]
    }
   ],
   "source": [
    "a=[]\n",
    "n=int(input('Enter the value of n:'))\n",
    "for i in range(n):\n",
    "    x=int(input('Enter the value of x:'))\n",
    "    a.append(x)\n",
    "    \n",
    "print(a)"
   ]
  },
  {
   "cell_type": "code",
   "execution_count": 48,
   "id": "a5e2a267",
   "metadata": {},
   "outputs": [
    {
     "name": "stdout",
     "output_type": "stream",
     "text": [
      "The maximum value is  5\n",
      "The minimum value is  1\n",
      "The sum is 15\n",
      "[1, 2, 3, 4, 5]\n",
      "[5, 4, 3, 2, 1]\n"
     ]
    }
   ],
   "source": [
    "print('The maximum value is ', max(a))\n",
    "print('The minimum value is ', min(a))\n",
    "print('The sum is',sum(a))\n",
    "a.sort()\n",
    "print(a)\n",
    "a.reverse()\n",
    "print(a)"
   ]
  },
  {
   "cell_type": "code",
   "execution_count": 13,
   "id": "b6055c18",
   "metadata": {},
   "outputs": [
    {
     "data": {
      "text/plain": [
       "[9, 8, 6, 5, 4, 3]"
      ]
     },
     "execution_count": 13,
     "metadata": {},
     "output_type": "execute_result"
    }
   ],
   "source": [
    "a=[5,6,4,3,8,9]\n",
    "a.sort()\n",
    "a\n",
    "a.reverse()\n",
    "a"
   ]
  },
  {
   "cell_type": "code",
   "execution_count": 52,
   "id": "83fdb9b4",
   "metadata": {},
   "outputs": [
    {
     "data": {
      "text/plain": [
       "[0, 1, 1, 2, 4, 8, 16]"
      ]
     },
     "execution_count": 52,
     "metadata": {},
     "output_type": "execute_result"
    }
   ],
   "source": [
    "# delete (del)\n",
    "# remove()\n",
    "# pop()"
   ]
  },
  {
   "cell_type": "code",
   "execution_count": 17,
   "id": "ee0082fb",
   "metadata": {},
   "outputs": [
    {
     "data": {
      "text/plain": [
       "['Dog', 'Apple']"
      ]
     },
     "execution_count": 17,
     "metadata": {},
     "output_type": "execute_result"
    }
   ],
   "source": [
    "a=[\"Apple\",\"Ball\",\"Cat\",\"Dog\",\"Apple\"]\n",
    "del a[0:3]\n",
    "a\n"
   ]
  },
  {
   "cell_type": "code",
   "execution_count": 60,
   "id": "2f3aee90",
   "metadata": {},
   "outputs": [
    {
     "data": {
      "text/plain": [
       "['Ball', 'Cat', 'Dog']"
      ]
     },
     "execution_count": 60,
     "metadata": {},
     "output_type": "execute_result"
    }
   ],
   "source": [
    "a=[\"Apple\",\"Ball\",\"Cat\",\"Dog\",\"Apple\",\"Apple\"]\n",
    "\n",
    "for i in range(a.count(\"Apple\")):\n",
    "    a.remove('Apple')\n",
    "a"
   ]
  },
  {
   "cell_type": "code",
   "execution_count": 72,
   "id": "95930630",
   "metadata": {},
   "outputs": [
    {
     "name": "stdout",
     "output_type": "stream",
     "text": [
      "[0, 4, 5]\n"
     ]
    }
   ],
   "source": [
    "a=[\"Apple\",\"Ball\",\"Cat\",\"Dog\",\"Apple\",\"Apple\"]\n",
    "c=[]\n",
    "l=len(a)\n",
    "for i in range (l):\n",
    "    if a[i]==\"Apple\":\n",
    "        c.append(i)\n",
    "print(c)"
   ]
  },
  {
   "cell_type": "code",
   "execution_count": 76,
   "id": "e62d9249",
   "metadata": {},
   "outputs": [
    {
     "name": "stdout",
     "output_type": "stream",
     "text": [
      "['Ball', 'Cat', 'Dog', 'Apple', 'Apple']\n",
      "Apple\n"
     ]
    }
   ],
   "source": [
    "a=[\"Apple\",\"Ball\",\"Cat\",\"Dog\",\"Apple\",\"Apple\"]\n",
    "b= a.pop(0)\n",
    "print(a)\n",
    "print(b)\n"
   ]
  },
  {
   "cell_type": "code",
   "execution_count": 43,
   "id": "bab07a63",
   "metadata": {},
   "outputs": [
    {
     "name": "stdout",
     "output_type": "stream",
     "text": [
      "Enter a number : 2\n",
      "[['Apple'], ['Ball']]\n",
      "[['Cat'], ['Dog']]\n",
      "[['Apple'], ['Apple']]\n",
      "[]\n"
     ]
    }
   ],
   "source": [
    "a=[\"Apple\",\"Ball\",\"Cat\",\"Dog\",\"Apple\",\"Apple\"]\n",
    "l=len(a)\n",
    "x=int(input('Enter a number : '))\n",
    "d=[]\n",
    "b=[]\n",
    "for i in range(l):\n",
    "    b=[a.pop(0)]\n",
    "    d.append(b)\n",
    "    if len(d)==x:\n",
    "        print(d)\n",
    "        d=[]\n",
    "    \n",
    "        \n",
    "   \n"
   ]
  },
  {
   "cell_type": "code",
   "execution_count": 36,
   "id": "38b40016",
   "metadata": {},
   "outputs": [],
   "source": [
    "a=[\"Apple\",\"Ball\",\"Cat\",\"Dog\",\"Apple\",\"Apple\"]\n",
    "l=len(a)\n",
    "n=int(input('Enter n='))\n",
    "d=l//n\n",
    "x=0\n",
    "l=[]\n",
    "for i in range(n):\n",
    "    l.append(a[x:d+x])\n",
    "    x=x+d\n",
    "print(l)\n"
   ]
  },
  {
   "cell_type": "code",
   "execution_count": 77,
   "id": "3fcc6ead",
   "metadata": {},
   "outputs": [
    {
     "name": "stdout",
     "output_type": "stream",
     "text": [
      "Yes\n",
      "3\n"
     ]
    }
   ],
   "source": [
    "# search\n",
    "a=[\"Apple\",\"Ball\",\"Cat\",\"Dog\",\"Apple\",\"Apple\"]\n",
    "if \"Apple\" in a:\n",
    "    print('Yes')\n",
    "    print(a.count(\"Apple\"))\n",
    "else:\n",
    "    Print(\"No\")"
   ]
  },
  {
   "cell_type": "code",
   "execution_count": 1,
   "id": "6dc9a586",
   "metadata": {},
   "outputs": [
    {
     "name": "stdout",
     "output_type": "stream",
     "text": [
      "Apple1\n",
      "Ball2\n",
      "Cat3\n",
      "Dog4\n",
      "Apple5\n"
     ]
    }
   ],
   "source": [
    "a=[1,2,3,4,5]\n",
    "b=['Apple','Ball','Cat','Dog','Apple']\n",
    "\n",
    "for i in range(len(a)):\n",
    "    print(b[i]+str(a[i]))\n",
    "    "
   ]
  },
  {
   "cell_type": "code",
   "execution_count": null,
   "id": "a02ee673",
   "metadata": {},
   "outputs": [],
   "source": []
  }
 ],
 "metadata": {
  "kernelspec": {
   "display_name": "Python 3 (ipykernel)",
   "language": "python",
   "name": "python3"
  },
  "language_info": {
   "codemirror_mode": {
    "name": "ipython",
    "version": 3
   },
   "file_extension": ".py",
   "mimetype": "text/x-python",
   "name": "python",
   "nbconvert_exporter": "python",
   "pygments_lexer": "ipython3",
   "version": "3.11.5"
  }
 },
 "nbformat": 4,
 "nbformat_minor": 5
}

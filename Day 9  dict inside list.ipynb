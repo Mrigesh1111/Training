{
 "cells": [
  {
   "cell_type": "code",
   "execution_count": 1,
   "id": "37e8fb65",
   "metadata": {},
   "outputs": [
    {
     "name": "stdout",
     "output_type": "stream",
     "text": [
      "[{'name': 'Ram', 'age': 34, 'address': 'Kathmandu'}, {'name': 'Shyam', 'age': 44, 'address': 'Bhaktapur'}, {'name': 'Hari', 'age': 56, 'address': 'Lalitpur'}]\n"
     ]
    }
   ],
   "source": [
    "# dict inside list\n",
    "\n",
    "l=[{'name':'Ram','age':34,'address':'Kathmandu'},{'name':'Shyam','age':44,'address':'Bhaktapur'},\n",
    "   {'name':'Hari','age':56,'address':'Lalitpur'}]\n",
    "print(l)"
   ]
  },
  {
   "cell_type": "code",
   "execution_count": 2,
   "id": "82e6a62b",
   "metadata": {},
   "outputs": [
    {
     "name": "stdout",
     "output_type": "stream",
     "text": [
      "{'name': 'Hari', 'age': 56, 'address': 'Lalitpur'}\n"
     ]
    }
   ],
   "source": [
    "print(l[2])"
   ]
  },
  {
   "cell_type": "code",
   "execution_count": 13,
   "id": "7789b476",
   "metadata": {},
   "outputs": [
    {
     "name": "stdout",
     "output_type": "stream",
     "text": [
      "Ram\n"
     ]
    }
   ],
   "source": [
    "print(l[0]['name'])"
   ]
  },
  {
   "cell_type": "code",
   "execution_count": 16,
   "id": "997f3996",
   "metadata": {},
   "outputs": [
    {
     "name": "stdout",
     "output_type": "stream",
     "text": [
      "['Ram', 34, 'Kathmandu']\n",
      "['Shyam', 44, 'Bhaktapur']\n",
      "['Hari', 56, 'Lalitpur']\n"
     ]
    }
   ],
   "source": [
    "for i in l:\n",
    "    print(list(i.values()))"
   ]
  },
  {
   "cell_type": "code",
   "execution_count": 17,
   "id": "e249acde",
   "metadata": {},
   "outputs": [
    {
     "name": "stdout",
     "output_type": "stream",
     "text": [
      "[{'name': 'Ram', 'age': 34, 'address': 'Kathmandu'}, {'name': 'Shyam', 'age': 44, 'address': 'Bhaktapur'}, {'name': 'Hari', 'age': 56, 'address': 'Lalitpur'}]\n"
     ]
    }
   ],
   "source": [
    "\n",
    "l=[{'name':'Ram','age':34,'address':'Kathmandu'},\n",
    "   {'name':'Shyam','age':44,'address':'Bhaktapur'},\n",
    "   {'name':'Hari','age':56,'address':'Lalitpur'}]\n",
    "\n",
    "\n",
    "print(l)\n"
   ]
  },
  {
   "cell_type": "code",
   "execution_count": 46,
   "id": "1f4879a0",
   "metadata": {},
   "outputs": [
    {
     "name": "stdout",
     "output_type": "stream",
     "text": [
      "Enter the value of n :2\n",
      "Enter Name: Ram\n",
      "Enter Age: 40\n",
      "Enter Address: Kathmandu\n",
      "Enter Name: Shyam\n",
      "Enter Age: 40\n",
      "Enter Address: Lalitpur\n"
     ]
    },
    {
     "ename": "AttributeError",
     "evalue": "'list' object has no attribute 'values'",
     "output_type": "error",
     "traceback": [
      "\u001b[1;31m---------------------------------------------------------------------------\u001b[0m",
      "\u001b[1;31mAttributeError\u001b[0m                            Traceback (most recent call last)",
      "Cell \u001b[1;32mIn[46], line 11\u001b[0m\n\u001b[0;32m      8\u001b[0m     info\u001b[38;5;241m=\u001b[39m{\u001b[38;5;124m'\u001b[39m\u001b[38;5;124mname\u001b[39m\u001b[38;5;124m'\u001b[39m:name,\u001b[38;5;124m'\u001b[39m\u001b[38;5;124mage\u001b[39m\u001b[38;5;124m'\u001b[39m:age,\u001b[38;5;124m'\u001b[39m\u001b[38;5;124madd\u001b[39m\u001b[38;5;124m'\u001b[39m:address}\n\u001b[0;32m      9\u001b[0m     l\u001b[38;5;241m.\u001b[39mappend(info)\n\u001b[1;32m---> 11\u001b[0m \u001b[38;5;28mprint\u001b[39m(l\u001b[38;5;241m.\u001b[39mvalues())\n",
      "\u001b[1;31mAttributeError\u001b[0m: 'list' object has no attribute 'values'"
     ]
    }
   ],
   "source": [
    "l=[]\n",
    "n=int(input('Enter the value of n :'))\n",
    "\n",
    "for i in range(n):\n",
    "    name=input('Enter Name: ')\n",
    "    age= int(input('Enter Age: '))\n",
    "    address= input('Enter Address: ')\n",
    "    info={'name':name,'age':age,'add':address}\n",
    "    l.append(info)\n",
    "    \n",
    "print(l)    \n"
   ]
  },
  {
   "cell_type": "code",
   "execution_count": 44,
   "id": "d065c52d",
   "metadata": {},
   "outputs": [
    {
     "ename": "ValueError",
     "evalue": "dictionary update sequence element #0 has length 3; 2 is required",
     "output_type": "error",
     "traceback": [
      "\u001b[1;31m---------------------------------------------------------------------------\u001b[0m",
      "\u001b[1;31mValueError\u001b[0m                                Traceback (most recent call last)",
      "Cell \u001b[1;32mIn[44], line 4\u001b[0m\n\u001b[0;32m      1\u001b[0m l\u001b[38;5;241m=\u001b[39m[{\u001b[38;5;124m'\u001b[39m\u001b[38;5;124mname\u001b[39m\u001b[38;5;124m'\u001b[39m:\u001b[38;5;124m'\u001b[39m\u001b[38;5;124mRam\u001b[39m\u001b[38;5;124m'\u001b[39m,\u001b[38;5;124m'\u001b[39m\u001b[38;5;124mage\u001b[39m\u001b[38;5;124m'\u001b[39m:\u001b[38;5;241m34\u001b[39m,\u001b[38;5;124m'\u001b[39m\u001b[38;5;124maddress\u001b[39m\u001b[38;5;124m'\u001b[39m:\u001b[38;5;124m'\u001b[39m\u001b[38;5;124mKathmandu\u001b[39m\u001b[38;5;124m'\u001b[39m},\n\u001b[0;32m      2\u001b[0m    {\u001b[38;5;124m'\u001b[39m\u001b[38;5;124mname\u001b[39m\u001b[38;5;124m'\u001b[39m:\u001b[38;5;124m'\u001b[39m\u001b[38;5;124mShyam\u001b[39m\u001b[38;5;124m'\u001b[39m,\u001b[38;5;124m'\u001b[39m\u001b[38;5;124mage\u001b[39m\u001b[38;5;124m'\u001b[39m:\u001b[38;5;241m44\u001b[39m,\u001b[38;5;124m'\u001b[39m\u001b[38;5;124maddress\u001b[39m\u001b[38;5;124m'\u001b[39m:\u001b[38;5;124m'\u001b[39m\u001b[38;5;124mBhaktapur\u001b[39m\u001b[38;5;124m'\u001b[39m},\n\u001b[0;32m      3\u001b[0m    {\u001b[38;5;124m'\u001b[39m\u001b[38;5;124mname\u001b[39m\u001b[38;5;124m'\u001b[39m:\u001b[38;5;124m'\u001b[39m\u001b[38;5;124mHari\u001b[39m\u001b[38;5;124m'\u001b[39m,\u001b[38;5;124m'\u001b[39m\u001b[38;5;124mage\u001b[39m\u001b[38;5;124m'\u001b[39m:\u001b[38;5;241m56\u001b[39m,\u001b[38;5;124m'\u001b[39m\u001b[38;5;124maddress\u001b[39m\u001b[38;5;124m'\u001b[39m:\u001b[38;5;124m'\u001b[39m\u001b[38;5;124mLalitpur\u001b[39m\u001b[38;5;124m'\u001b[39m}]\n\u001b[1;32m----> 4\u001b[0m \u001b[38;5;28mdict\u001b[39m(l)\n",
      "\u001b[1;31mValueError\u001b[0m: dictionary update sequence element #0 has length 3; 2 is required"
     ]
    }
   ],
   "source": [
    "l=[{'name':'Ram','age':34,'address':'Kathmandu'},\n",
    "   {'name':'Shyam','age':44,'address':'Bhaktapur'},\n",
    "   {'name':'Hari','age':56,'address':'Lalitpur'}]\n",
    "dict(l)\n"
   ]
  },
  {
   "cell_type": "code",
   "execution_count": null,
   "id": "bed8b106",
   "metadata": {},
   "outputs": [],
   "source": []
  }
 ],
 "metadata": {
  "kernelspec": {
   "display_name": "Python 3 (ipykernel)",
   "language": "python",
   "name": "python3"
  },
  "language_info": {
   "codemirror_mode": {
    "name": "ipython",
    "version": 3
   },
   "file_extension": ".py",
   "mimetype": "text/x-python",
   "name": "python",
   "nbconvert_exporter": "python",
   "pygments_lexer": "ipython3",
   "version": "3.11.5"
  }
 },
 "nbformat": 4,
 "nbformat_minor": 5
}

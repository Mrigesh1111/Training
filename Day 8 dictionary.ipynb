{
 "cells": [
  {
   "cell_type": "code",
   "execution_count": 1,
   "id": "3a9c9e4d",
   "metadata": {},
   "outputs": [],
   "source": [
    "# dictionary\n",
    "# -mutable data\n",
    "# -duplicate data\n",
    "# -indexing\n",
    "# -mutable datatype\n"
   ]
  },
  {
   "cell_type": "code",
   "execution_count": 2,
   "id": "dd63b71f",
   "metadata": {},
   "outputs": [],
   "source": [
    "# d={<key>:<value>,<key>:<value>"
   ]
  },
  {
   "cell_type": "code",
   "execution_count": 3,
   "id": "a184ab79",
   "metadata": {},
   "outputs": [
    {
     "name": "stdout",
     "output_type": "stream",
     "text": [
      "Apple\n",
      "Cat\n"
     ]
    }
   ],
   "source": [
    "d={'a':'Apple','b':'Ball','c':'Cat'}\n",
    "print(d['a'])\n",
    "print(d['c'])\n"
   ]
  },
  {
   "cell_type": "code",
   "execution_count": 4,
   "id": "f872cc84",
   "metadata": {},
   "outputs": [
    {
     "name": "stdout",
     "output_type": "stream",
     "text": [
      "Ant\n",
      "Cat\n"
     ]
    }
   ],
   "source": [
    "# duplicate data but not key\n",
    "d={'a':'Apple','b':'Ball','c':'Cat','a':'Ant'}\n",
    "print(d['a'])\n",
    "print(d['c'])\n"
   ]
  },
  {
   "cell_type": "code",
   "execution_count": 7,
   "id": "67cd4a39",
   "metadata": {},
   "outputs": [
    {
     "name": "stdout",
     "output_type": "stream",
     "text": [
      "Apple\n",
      "Cat\n",
      "Apple\n"
     ]
    },
    {
     "data": {
      "text/plain": [
       "4"
      ]
     },
     "execution_count": 7,
     "metadata": {},
     "output_type": "execute_result"
    }
   ],
   "source": [
    "d={'a':'Apple','b':'Ball','c':'Cat','d':'Apple'}\n",
    "print(d['a'])\n",
    "print(d['c'])\n",
    "print(d['d'])\n",
    "len(d)"
   ]
  },
  {
   "cell_type": "code",
   "execution_count": 8,
   "id": "a205b87a",
   "metadata": {},
   "outputs": [
    {
     "data": {
      "text/plain": [
       "{'Ram': 9841456489, 'Shyam': 9841234589, 'Hari': 9841456654}"
      ]
     },
     "execution_count": 8,
     "metadata": {},
     "output_type": "execute_result"
    }
   ],
   "source": [
    "# d=dict()\n",
    "\n",
    "d={}\n",
    "d['Ram']=9841456489\n",
    "d['Shyam']=9841234589\n",
    "d['Hari']=9841456654\n",
    "d\n",
    "\n"
   ]
  },
  {
   "cell_type": "code",
   "execution_count": 9,
   "id": "4b43290c",
   "metadata": {},
   "outputs": [
    {
     "name": "stdout",
     "output_type": "stream",
     "text": [
      "Enter the value of n : 2\n",
      "Enter name = Rma\n",
      "Enter Phone = 9841456654\n",
      "Enter name = Shyam\n",
      "Enter Phone = 9841123321\n",
      "{'Rma': '9841456654', 'Shyam': '9841123321'}\n"
     ]
    }
   ],
   "source": [
    "d={}\n",
    "n= int(input('Enter the value of n : '))\n",
    "\n",
    "for i in range(n):\n",
    "    name=input('Enter name = ')\n",
    "    phone= input('Enter Phone = ')\n",
    "    \n",
    "    d[name]=phone\n",
    "print(d)\n",
    "    "
   ]
  },
  {
   "cell_type": "code",
   "execution_count": 15,
   "id": "da5f724e",
   "metadata": {},
   "outputs": [
    {
     "name": "stdout",
     "output_type": "stream",
     "text": [
      "Ram\n",
      "Shyam\n",
      "9841456489\n",
      "9841234589\n",
      "('Ram', 9841456489)\n",
      "('Shyam', 9841234589)\n"
     ]
    }
   ],
   "source": [
    "# For only key\n",
    "\n",
    "a={'Ram': 9841456489, 'Shyam': 9841234589}\n",
    "\n",
    "for i in a:\n",
    "    print(i)\n",
    "    \n",
    "# for only Value\n",
    "\n",
    "a={'Ram': 9841456489, 'Shyam': 9841234589}\n",
    "\n",
    "for i in a.values():\n",
    "    print(i)\n",
    "\n",
    "# for both\n",
    "\n",
    "a={'Ram': 9841456489, 'Shyam': 9841234589}\n",
    "\n",
    "for i in a.items():\n",
    "    print(i)\n"
   ]
  },
  {
   "cell_type": "code",
   "execution_count": 23,
   "id": "13520f70",
   "metadata": {},
   "outputs": [
    {
     "name": "stdout",
     "output_type": "stream",
     "text": [
      "Ram\n",
      "Shyam\n",
      "Hari\n"
     ]
    }
   ],
   "source": [
    "a=['Ram','Shyam','Hari']\n",
    "for i in a:\n",
    "    print(i)"
   ]
  },
  {
   "cell_type": "code",
   "execution_count": 24,
   "id": "3333e2e1",
   "metadata": {},
   "outputs": [
    {
     "name": "stdout",
     "output_type": "stream",
     "text": [
      "{'Shyam': 9841234589}\n"
     ]
    }
   ],
   "source": [
    "# delete\n",
    "\n",
    "a={'Ram': 9841456489, 'Shyam': 9841234589}\n",
    "\n",
    "del a['Ram']\n",
    "print(a)"
   ]
  },
  {
   "cell_type": "code",
   "execution_count": 26,
   "id": "38283c44",
   "metadata": {},
   "outputs": [
    {
     "name": "stdout",
     "output_type": "stream",
     "text": [
      "{'Shyam': 9841234589}\n",
      "9841456489\n"
     ]
    }
   ],
   "source": [
    "a={'Ram': 9841456489, 'Shyam': 9841234589}\n",
    "\n",
    "b= a.pop('Ram')\n",
    "print(a)\n",
    "print(b)"
   ]
  },
  {
   "cell_type": "code",
   "execution_count": 27,
   "id": "62b22e33",
   "metadata": {},
   "outputs": [
    {
     "name": "stdout",
     "output_type": "stream",
     "text": [
      "{'Ram': [9841654654, 9841321321], 'Shyam': [9841987987, 9841789789]}\n"
     ]
    }
   ],
   "source": [
    "# list inside dict\n",
    "\n",
    "a={'Ram': [ 9841654654, 9841321321],'Shyam':[9841987987,9841789789]}\n",
    "print(a)"
   ]
  },
  {
   "cell_type": "code",
   "execution_count": 28,
   "id": "fc644241",
   "metadata": {},
   "outputs": [
    {
     "data": {
      "text/plain": [
       "{'name': ['Ram', 'Shyam', 'Hari'],\n",
       " 'ntc': [9865321321, 9845632132, 9865431287],\n",
       " 'ncell': [9841654897, 9841789654, 9841654321]}"
      ]
     },
     "execution_count": 28,
     "metadata": {},
     "output_type": "execute_result"
    }
   ],
   "source": [
    "a={'name':['Ram','Shyam','Hari'],\n",
    "   'ntc':[9865321321,9845632132,9865431287],\n",
    "   'ncell':[9841654897,9841789654,9841654321]}\n",
    "\n",
    "a"
   ]
  },
  {
   "cell_type": "code",
   "execution_count": 30,
   "id": "f8ea6afd",
   "metadata": {},
   "outputs": [
    {
     "name": "stdout",
     "output_type": "stream",
     "text": [
      "Enter the value of n : 2\n",
      "Enter name = Ram\n",
      "Enter NTC Phone = \n",
      "Enter Ncell Phone = 9808654321\n",
      "Enter name = Shyam\n",
      "Enter NTC Phone = 9841987654\n",
      "Enter Ncell Phone = 9805987654\n",
      "{'Ram': ['', '9808654321'], 'Shyam': ['9841987654', '9805987654']}\n"
     ]
    }
   ],
   "source": [
    "# list inside dictionary\n",
    "\n",
    "d={}\n",
    "n= int(input('Enter the value of n : '))\n",
    "\n",
    "for i in range(n):\n",
    "    name=input('Enter name = ')\n",
    "    ntc= input('Enter NTC Phone = ')\n",
    "    ncell=input('Enter Ncell Phone = ')\n",
    "        \n",
    "    d[name]=[ntc,ncell]\n",
    "print(d)\n",
    "    "
   ]
  },
  {
   "cell_type": "code",
   "execution_count": 35,
   "id": "30d1b256",
   "metadata": {},
   "outputs": [
    {
     "name": "stdout",
     "output_type": "stream",
     "text": [
      "ntc number of Shyam 9841987654\n"
     ]
    }
   ],
   "source": [
    "d['Shyam']\n",
    "print('ntc number of Shyam',d['Shyam'][0])"
   ]
  },
  {
   "cell_type": "code",
   "execution_count": 36,
   "id": "a1410221",
   "metadata": {},
   "outputs": [],
   "source": [
    "# a={'name':['Ram','Shyam','Hari'],\n",
    "#    'ntc':[9865321321,9845632132,9865431287],\n",
    "#    'ncell':[9841654897,9841789654,9841654321]}"
   ]
  },
  {
   "cell_type": "code",
   "execution_count": 38,
   "id": "55514cae",
   "metadata": {},
   "outputs": [
    {
     "name": "stdout",
     "output_type": "stream",
     "text": [
      "Enter the value of n : 2\n",
      "Enter name = Ram\n",
      "Enter NTC Phone = 9841789654\n",
      "Enter Ncell Phone = 9808789654\n",
      "Enter name = Shyam\n",
      "Enter NTC Phone = 9841456654\n",
      "Enter Ncell Phone = 9808456654\n",
      "{'name': ['Ram', 'Shyam'], 'ntc': ['9841789654', '9841456654'], 'ncell': ['9808789654', '9808456654']}\n"
     ]
    }
   ],
   "source": [
    "d={'name':[],'ntc':[],'ncell':[]}\n",
    "n= int(input('Enter the value of n : '))\n",
    "\n",
    "for i in range(n):\n",
    "    name=input('Enter name = ')\n",
    "    ntc= input('Enter NTC Phone = ')\n",
    "    ncell=input('Enter Ncell Phone = ')\n",
    "        \n",
    "    d['name'].append(name)\n",
    "    d['ntc'].append(ntc)\n",
    "    d['ncell'].append(ncell)\n",
    "    \n",
    "print(d)"
   ]
  },
  {
   "cell_type": "code",
   "execution_count": 40,
   "id": "76002abc",
   "metadata": {},
   "outputs": [
    {
     "name": "stdout",
     "output_type": "stream",
     "text": [
      "Ram\n",
      "9841789654\n",
      "9808789654\n"
     ]
    }
   ],
   "source": [
    "d={'name': ['Ram', 'Shyam'], 'ntc': ['9841789654', '9841456654'], 'ncell': ['9808789654', '9808456654']}\n",
    "print(d['name'][0])\n",
    "print(d['ntc'][0])\n",
    "print(d['ncell'][0])"
   ]
  },
  {
   "cell_type": "code",
   "execution_count": 41,
   "id": "af931597",
   "metadata": {},
   "outputs": [],
   "source": [
    "del d['name'][0]\n",
    "del d['ntc'][0]\n",
    "del d['ncell'][0]\n"
   ]
  },
  {
   "cell_type": "code",
   "execution_count": 42,
   "id": "c17146c5",
   "metadata": {},
   "outputs": [
    {
     "name": "stdout",
     "output_type": "stream",
     "text": [
      "{'name': ['Shyam'], 'ntc': ['9841456654'], 'ncell': ['9808456654']}\n"
     ]
    }
   ],
   "source": [
    "print(d)"
   ]
  },
  {
   "cell_type": "code",
   "execution_count": 44,
   "id": "9d4cad6a",
   "metadata": {},
   "outputs": [
    {
     "name": "stdout",
     "output_type": "stream",
     "text": [
      "\f",
      "\n"
     ]
    }
   ],
   "source": []
  },
  {
   "cell_type": "code",
   "execution_count": null,
   "id": "bff98f5a",
   "metadata": {},
   "outputs": [],
   "source": []
  }
 ],
 "metadata": {
  "kernelspec": {
   "display_name": "Python 3 (ipykernel)",
   "language": "python",
   "name": "python3"
  },
  "language_info": {
   "codemirror_mode": {
    "name": "ipython",
    "version": 3
   },
   "file_extension": ".py",
   "mimetype": "text/x-python",
   "name": "python",
   "nbconvert_exporter": "python",
   "pygments_lexer": "ipython3",
   "version": "3.11.5"
  }
 },
 "nbformat": 4,
 "nbformat_minor": 5
}

{
 "cells": [
  {
   "cell_type": "code",
   "execution_count": 1,
   "id": "ad373dc6",
   "metadata": {},
   "outputs": [],
   "source": [
    "# comparision operators <>  ==  >= <= !="
   ]
  },
  {
   "cell_type": "code",
   "execution_count": 2,
   "id": "bc63250f",
   "metadata": {},
   "outputs": [
    {
     "name": "stdout",
     "output_type": "stream",
     "text": [
      "True\n"
     ]
    }
   ],
   "source": [
    "a=10\n",
    "b=2\n",
    "print(a>b)"
   ]
  },
  {
   "cell_type": "code",
   "execution_count": 3,
   "id": "fbd9133f",
   "metadata": {},
   "outputs": [
    {
     "name": "stdout",
     "output_type": "stream",
     "text": [
      "False\n"
     ]
    }
   ],
   "source": [
    "print(b>a)"
   ]
  },
  {
   "cell_type": "code",
   "execution_count": 7,
   "id": "4f1db423",
   "metadata": {},
   "outputs": [
    {
     "name": "stdout",
     "output_type": "stream",
     "text": [
      "True\n"
     ]
    }
   ],
   "source": [
    "print(a!=b)"
   ]
  },
  {
   "cell_type": "code",
   "execution_count": 9,
   "id": "d6c42fee",
   "metadata": {},
   "outputs": [],
   "source": [
    "# if <condition>:\n",
    "#     <operations>\n",
    "# else:\n",
    "#     <operations>"
   ]
  },
  {
   "cell_type": "code",
   "execution_count": 11,
   "id": "f11c255d",
   "metadata": {},
   "outputs": [
    {
     "name": "stdout",
     "output_type": "stream",
     "text": [
      "2\n"
     ]
    }
   ],
   "source": [
    "if a<b:\n",
    "    print(a)\n",
    "else:\n",
    "    print(b)"
   ]
  },
  {
   "cell_type": "code",
   "execution_count": 15,
   "id": "885d47f1",
   "metadata": {},
   "outputs": [
    {
     "name": "stdout",
     "output_type": "stream",
     "text": [
      "Enter a number:10\n",
      "not int\n"
     ]
    }
   ],
   "source": [
    "a=input('Enter a number:')\n",
    "if type(a)==int:\n",
    "    print(a)\n",
    "else:\n",
    "    print('not int')"
   ]
  },
  {
   "cell_type": "code",
   "execution_count": 13,
   "id": "fec13191",
   "metadata": {},
   "outputs": [
    {
     "data": {
      "text/plain": [
       "int"
      ]
     },
     "execution_count": 13,
     "metadata": {},
     "output_type": "execute_result"
    }
   ],
   "source": [
    "type(a)"
   ]
  },
  {
   "cell_type": "code",
   "execution_count": null,
   "id": "11e940b7",
   "metadata": {},
   "outputs": [],
   "source": [
    "a=input('enter a number')\n",
    "if int(a)%2==0:\n",
    "    print('the number is even')\n",
    "else:\n",
    "    print('the number is odd')"
   ]
  },
  {
   "cell_type": "code",
   "execution_count": 1,
   "id": "1162775c",
   "metadata": {},
   "outputs": [
    {
     "name": "stdout",
     "output_type": "stream",
     "text": [
      "enter a number (a): 10\n",
      "enter a number (b): 20\n",
      "b is greater than a\n"
     ]
    }
   ],
   "source": [
    "a= int(input('enter a number (a): '))\n",
    "b= int(input('enter a number (b): '))\n",
    "\n",
    "if a>b:\n",
    "  print('a is greater than b')\n",
    "elif b>a:\n",
    "  print('b is greater than a')\n",
    "else:\n",
    "  print('both are equal')"
   ]
  },
  {
   "cell_type": "code",
   "execution_count": 3,
   "id": "46de3586",
   "metadata": {},
   "outputs": [
    {
     "name": "stdout",
     "output_type": "stream",
     "text": [
      "enter Physics= 90\n",
      "enter chemistry= 75.5\n",
      "enter math= 80\n",
      "enter english= 65.5\n",
      "enter nepali= 72\n",
      "Total= 383.0\n",
      "Percentage= 76.6\n",
      "Grade= B\n"
     ]
    }
   ],
   "source": [
    "physics=float(input('enter Physics= '))\n",
    "chemistry=float(input('enter chemistry= '))\n",
    "math=float(input('enter math= '))\n",
    "english= float(input('enter english= '))\n",
    "nepali=float(input('enter nepali= '))\n",
    "\n",
    "total = physics + chemistry + math + english + nepali\n",
    "per= total/5\n",
    "\n",
    "if per>=80:\n",
    "    grade='A'\n",
    "elif per>=60:\n",
    "    grade='B'\n",
    "elif per>=50:\n",
    "    grade='C'\n",
    "else:\n",
    "    grade='F'\n",
    "    \n",
    "print('Total=',total)\n",
    "print('Percentage=',per)\n",
    "print('Grade=',grade)\n"
   ]
  },
  {
   "cell_type": "code",
   "execution_count": null,
   "id": "6d801de0",
   "metadata": {},
   "outputs": [],
   "source": []
  }
 ],
 "metadata": {
  "kernelspec": {
   "display_name": "Python 3 (ipykernel)",
   "language": "python",
   "name": "python3"
  },
  "language_info": {
   "codemirror_mode": {
    "name": "ipython",
    "version": 3
   },
   "file_extension": ".py",
   "mimetype": "text/x-python",
   "name": "python",
   "nbconvert_exporter": "python",
   "pygments_lexer": "ipython3",
   "version": "3.11.5"
  }
 },
 "nbformat": 4,
 "nbformat_minor": 5
}

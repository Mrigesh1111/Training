{
 "cells": [
  {
   "cell_type": "code",
   "execution_count": null,
   "id": "56f8d803",
   "metadata": {},
   "outputs": [],
   "source": [
    "physics=float(input('enter Physics= '))\n",
    "chemistry=float(input('enter chemistry= '))\n",
    "math=float(input('enter math= '))\n",
    "english= float(input('enter english= '))\n",
    "nepali=float(input('enter nepali= '))\n",
    "\n",
    "total = physics + chemistry + math + english + nepali\n",
    "per= total/5\n",
    "\n",
    "if per>80 | per==80:\n",
    "    grade='A'\n",
    "elif per>60 | per==60:\n",
    "    grade='B'\n",
    "elif per>50 | per==50:\n",
    "    grade='C'\n",
    "else:\n",
    "    grade='F'\n",
    "    \n",
    "print('Total=',total)\n",
    "print('Percentage=',per)\n",
    "print('Grade=',grade)"
   ]
  },
  {
   "cell_type": "code",
   "execution_count": 1,
   "id": "3c96b867",
   "metadata": {},
   "outputs": [],
   "source": [
    "# # Nested if else\n",
    "# if<condtion>:\n",
    "#     if<condition>:\n",
    "#         <operation>\n",
    "#     else:\n",
    "#         <operation>\n",
    "# else:\n",
    "#     if<condition>:\n",
    "#         <operation>\n",
    "#     else:\n",
    "#         <operation>\n"
   ]
  },
  {
   "cell_type": "code",
   "execution_count": 12,
   "id": "4e5c9d94",
   "metadata": {},
   "outputs": [
    {
     "name": "stdout",
     "output_type": "stream",
     "text": [
      "CALCULATOR\n",
      "enter a number:10\n",
      "enter another number:20\n",
      "enter operation + * - / :/\n",
      "0.5\n"
     ]
    }
   ],
   "source": [
    "\n",
    "print('CALCULATOR')\n",
    "a=float(input('enter a number:'))\n",
    "b=float(input('enter another number:'))\n",
    "c=input('enter operation + * - / :')\n",
    "\n",
    "if c=='+':\n",
    "  d=a+b\n",
    "elif c=='-':\n",
    "  d=a-b\n",
    "elif c=='*':\n",
    "  d=a*b\n",
    "elif c=='/':\n",
    "  d=a/b\n",
    "elif c=='^':\n",
    "    d=a**b\n",
    "else:\n",
    "  d='Enter Valid Operator'\n",
    "print(d)\n"
   ]
  },
  {
   "cell_type": "code",
   "execution_count": 20,
   "id": "92c724c5",
   "metadata": {},
   "outputs": [
    {
     "name": "stdout",
     "output_type": "stream",
     "text": [
      "Enter a = 10\n",
      "The no is +ve and even\n"
     ]
    }
   ],
   "source": [
    "a=int(input('Enter a = '))\n",
    "if a>0:\n",
    "    if a%2==0:\n",
    "        print('The no is +ve and even')\n",
    "    else:\n",
    "        print('The no is +ve and odd')\n",
    "elif a<0:\n",
    "    if a%2==0:\n",
    "        print('The no is -ve and even')\n",
    "    else:\n",
    "        print('The no is -ve and odd')\n",
    "else:\n",
    "    print('The number is 0')"
   ]
  },
  {
   "cell_type": "code",
   "execution_count": 21,
   "id": "806de1f8",
   "metadata": {},
   "outputs": [],
   "source": [
    "# There are two type of loops\n",
    "# 1. for loop \n",
    "# 2. While loop\n"
   ]
  },
  {
   "cell_type": "code",
   "execution_count": 22,
   "id": "df616a80",
   "metadata": {},
   "outputs": [
    {
     "data": {
      "text/plain": [
       "range(1, 10, 2)"
      ]
     },
     "execution_count": 22,
     "metadata": {},
     "output_type": "execute_result"
    }
   ],
   "source": [
    "range(5) #0,1,2,3,4\n",
    "range(1,5) #1,2,3,4\n",
    "range(1,10,2) #1,3,5,7,9"
   ]
  },
  {
   "cell_type": "code",
   "execution_count": 23,
   "id": "cd87fe7a",
   "metadata": {},
   "outputs": [
    {
     "name": "stdout",
     "output_type": "stream",
     "text": [
      "0\n",
      "1\n",
      "2\n",
      "3\n",
      "4\n"
     ]
    }
   ],
   "source": [
    "for i in range(5):\n",
    "    print(i)"
   ]
  },
  {
   "cell_type": "code",
   "execution_count": 25,
   "id": "0a4f3157",
   "metadata": {},
   "outputs": [
    {
     "name": "stdout",
     "output_type": "stream",
     "text": [
      "Enter n = 5\n",
      "5\n",
      "10\n",
      "15\n",
      "20\n",
      "25\n",
      "30\n",
      "35\n",
      "40\n",
      "45\n",
      "50\n"
     ]
    }
   ],
   "source": [
    "n= int(input('Enter n = '))\n",
    "for i in range(1,11):\n",
    "    print(n*i)"
   ]
  },
  {
   "cell_type": "code",
   "execution_count": 26,
   "id": "aee12622",
   "metadata": {},
   "outputs": [
    {
     "name": "stdout",
     "output_type": "stream",
     "text": [
      "Enter n = 7\n",
      "7 * 1 = 7\n",
      "7 * 2 = 14\n",
      "7 * 3 = 21\n",
      "7 * 4 = 28\n",
      "7 * 5 = 35\n",
      "7 * 6 = 42\n",
      "7 * 7 = 49\n",
      "7 * 8 = 56\n",
      "7 * 9 = 63\n",
      "7 * 10 = 70\n"
     ]
    }
   ],
   "source": [
    "n= int(input('Enter n = '))\n",
    "for i in range(1,11):\n",
    "    print(n,'*',i,'=',n*i)"
   ]
  },
  {
   "cell_type": "code",
   "execution_count": null,
   "id": "db05a6da",
   "metadata": {},
   "outputs": [],
   "source": []
  }
 ],
 "metadata": {
  "kernelspec": {
   "display_name": "Python 3 (ipykernel)",
   "language": "python",
   "name": "python3"
  },
  "language_info": {
   "codemirror_mode": {
    "name": "ipython",
    "version": 3
   },
   "file_extension": ".py",
   "mimetype": "text/x-python",
   "name": "python",
   "nbconvert_exporter": "python",
   "pygments_lexer": "ipython3",
   "version": "3.11.5"
  }
 },
 "nbformat": 4,
 "nbformat_minor": 5
}

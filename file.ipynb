{
 "cells": [
  {
   "cell_type": "code",
   "execution_count": 1,
   "id": "7632cbdc",
   "metadata": {},
   "outputs": [],
   "source": [
    "# read -> r\n",
    "# write-> w\n",
    "# append -> a\n",
    "# create -> x\n"
   ]
  },
  {
   "cell_type": "code",
   "execution_count": 4,
   "id": "29eb9be0",
   "metadata": {},
   "outputs": [],
   "source": [
    "# f= open('<file_name>','<mode>')\n",
    "# f.close()\n",
    "\n",
    "# with open('<file_name>','<mode')as f:\n",
    "#     <operation>\n",
    "\n",
    "\n",
    "# with open('<file_name>','<mode>') as f:\n",
    "#     <operation>"
   ]
  },
  {
   "cell_type": "code",
   "execution_count": 6,
   "id": "0a6ae7a0",
   "metadata": {},
   "outputs": [
    {
     "name": "stdout",
     "output_type": "stream",
     "text": [
      "The file is already created\n"
     ]
    }
   ],
   "source": [
    "try:\n",
    "    f=open('data.txt','x')\n",
    "    f.close()\n",
    "except:\n",
    "    print('The file is already created')\n"
   ]
  },
  {
   "cell_type": "code",
   "execution_count": 7,
   "id": "34b82fba",
   "metadata": {},
   "outputs": [
    {
     "name": "stdout",
     "output_type": "stream",
     "text": [
      "1. Hello World\n",
      "2. Hello World\n",
      "3. Hello World\n",
      "4. Hello World\n",
      "5. Hello World\n",
      "6. Hello World\n",
      "7. Hello World\n",
      "8. Hello World\n",
      "9. Hello World\n",
      "\n"
     ]
    }
   ],
   "source": [
    "f= open('data.txt','r')\n",
    "print(f.read())\n",
    "f.close()"
   ]
  },
  {
   "cell_type": "code",
   "execution_count": 8,
   "id": "be03ea02",
   "metadata": {},
   "outputs": [
    {
     "name": "stdout",
     "output_type": "stream",
     "text": [
      "1. Hello World\n",
      "2. Hello World\n",
      "3. Hello World\n",
      "4. Hello World\n",
      "5. Hello World\n",
      "6. Hello World\n",
      "7. Hello World\n",
      "8. Hello World\n",
      "9. Hello World\n",
      "\n",
      "<class 'str'>\n"
     ]
    }
   ],
   "source": [
    "f= open('data.txt','r')\n",
    "x=f.read()\n",
    "f.close()\n",
    "print(x)\n",
    "print(type(x))"
   ]
  },
  {
   "cell_type": "code",
   "execution_count": 13,
   "id": "23530a59",
   "metadata": {},
   "outputs": [
    {
     "data": {
      "text/plain": [
       "['1. Hello World',\n",
       " '2. Hello World',\n",
       " '3. Hello World',\n",
       " '4. Hello World',\n",
       " '5. Hello World',\n",
       " '6. Hello World',\n",
       " '7. Hello World',\n",
       " '8. Hello World',\n",
       " '9. Hello World',\n",
       " '']"
      ]
     },
     "execution_count": 13,
     "metadata": {},
     "output_type": "execute_result"
    }
   ],
   "source": [
    "x.split('\\n')"
   ]
  },
  {
   "cell_type": "code",
   "execution_count": 14,
   "id": "aee61792",
   "metadata": {},
   "outputs": [],
   "source": [
    "f= open('new_file.txt','w')\n",
    "f.write('Hello World')\n",
    "f.close()\n"
   ]
  },
  {
   "cell_type": "code",
   "execution_count": 16,
   "id": "8846805c",
   "metadata": {},
   "outputs": [],
   "source": [
    "# write will overwrite previous data\n",
    "# append will add to that data"
   ]
  },
  {
   "cell_type": "code",
   "execution_count": 20,
   "id": "5f84e293",
   "metadata": {},
   "outputs": [],
   "source": [
    "# for location finding\n",
    "\n",
    "# pwd"
   ]
  },
  {
   "cell_type": "code",
   "execution_count": 21,
   "id": "3ba29f2d",
   "metadata": {},
   "outputs": [
    {
     "data": {
      "text/plain": [
       "'C:\\\\Users\\\\Rajan Kayastha\\\\Phython class'"
      ]
     },
     "execution_count": 21,
     "metadata": {},
     "output_type": "execute_result"
    }
   ],
   "source": []
  },
  {
   "cell_type": "code",
   "execution_count": null,
   "id": "9dbb2a97",
   "metadata": {},
   "outputs": [],
   "source": []
  }
 ],
 "metadata": {
  "kernelspec": {
   "display_name": "Python 3 (ipykernel)",
   "language": "python",
   "name": "python3"
  },
  "language_info": {
   "codemirror_mode": {
    "name": "ipython",
    "version": 3
   },
   "file_extension": ".py",
   "mimetype": "text/x-python",
   "name": "python",
   "nbconvert_exporter": "python",
   "pygments_lexer": "ipython3",
   "version": "3.11.5"
  }
 },
 "nbformat": 4,
 "nbformat_minor": 5
}

{
 "cells": [
  {
   "cell_type": "code",
   "execution_count": 1,
   "id": "80808e2b",
   "metadata": {},
   "outputs": [
    {
     "name": "stdout",
     "output_type": "stream",
     "text": [
      "[[1, 2, 3], [4, 5, 6], [7, 8, 9]]\n"
     ]
    }
   ],
   "source": [
    "# list inside list\n",
    "l=[[1,2,3],\n",
    "  [4,5,6],\n",
    "  [7,8,9]]\n",
    "print(l)"
   ]
  },
  {
   "cell_type": "code",
   "execution_count": 2,
   "id": "198d6b41",
   "metadata": {},
   "outputs": [
    {
     "name": "stdout",
     "output_type": "stream",
     "text": [
      "[['ram', 23, 'Kathmandu'], ['shyam', 25, 'Bhaktapur'], ['hari', 56, 'Lalitpur']]\n"
     ]
    }
   ],
   "source": [
    "l=[['ram',23,'Kathmandu'],\n",
    "  ['shyam',25,'Bhaktapur'],\n",
    "  ['hari',56,'Lalitpur']]\n",
    "print(l)"
   ]
  },
  {
   "cell_type": "code",
   "execution_count": 3,
   "id": "cabcc757",
   "metadata": {},
   "outputs": [
    {
     "data": {
      "text/plain": [
       "['ram', 23, 'Kathmandu']"
      ]
     },
     "execution_count": 3,
     "metadata": {},
     "output_type": "execute_result"
    }
   ],
   "source": [
    "l[0]"
   ]
  },
  {
   "cell_type": "code",
   "execution_count": 6,
   "id": "3961bda7",
   "metadata": {},
   "outputs": [
    {
     "name": "stdout",
     "output_type": "stream",
     "text": [
      "ram\n"
     ]
    }
   ],
   "source": [
    "print(l[0][0])"
   ]
  },
  {
   "cell_type": "code",
   "execution_count": 7,
   "id": "6d38cc54",
   "metadata": {},
   "outputs": [
    {
     "name": "stdout",
     "output_type": "stream",
     "text": [
      "shyam\n"
     ]
    }
   ],
   "source": [
    "print(l[1][0])"
   ]
  },
  {
   "cell_type": "code",
   "execution_count": 8,
   "id": "09900000",
   "metadata": {},
   "outputs": [
    {
     "name": "stdout",
     "output_type": "stream",
     "text": [
      "[['shyam', 25, 'Bhaktapur'], ['hari', 56, 'Lalitpur']]\n"
     ]
    }
   ],
   "source": [
    "del l[0]\n",
    "print(l)\n"
   ]
  },
  {
   "cell_type": "code",
   "execution_count": 12,
   "id": "05648fa4",
   "metadata": {},
   "outputs": [
    {
     "name": "stdout",
     "output_type": "stream",
     "text": [
      "[['shyam', 25, 'Bhaktapur'], ['hari', 56, 'Lalitpur']]\n",
      "['ram', 23, 'Kathmandu']\n"
     ]
    }
   ],
   "source": [
    "a=[['ram',23,'Kathmandu'],\n",
    "  ['shyam',25,'Bhaktapur'],\n",
    "  ['hari',56,'Lalitpur']]\n",
    "b=a.pop(0)\n",
    "print(a)\n",
    "print(b)\n"
   ]
  },
  {
   "cell_type": "code",
   "execution_count": 14,
   "id": "544d351b",
   "metadata": {},
   "outputs": [
    {
     "name": "stdout",
     "output_type": "stream",
     "text": [
      "Enter the value of n:2\n",
      "enter name= Ram\n",
      "Enter age23\n",
      "Enter address:Kathmandu\n",
      "enter name= Shyam\n",
      "Enter age25\n",
      "Enter address:Lalitpur\n",
      "[['Ram', 23, 'Kathmandu'], ['Shyam', 25, 'Lalitpur']]\n"
     ]
    }
   ],
   "source": [
    "l=[]\n",
    "n=int(input('Enter the value of n:'))\n",
    "for i in range(n):\n",
    "    name= input('enter name= ')\n",
    "    age= int(input('Enter age'))\n",
    "    add= input('Enter address:')\n",
    "    data=[name,age,add]\n",
    "    l.append(data)\n",
    "\n",
    "print(l)\n",
    "               "
   ]
  },
  {
   "cell_type": "code",
   "execution_count": 21,
   "id": "5c046157",
   "metadata": {},
   "outputs": [
    {
     "name": "stdout",
     "output_type": "stream",
     "text": [
      "Enter Name: am\n"
     ]
    }
   ],
   "source": [
    "info=[['ram',23,'Kathmandu'],\n",
    "  ['shyam',25,'Bhaktapur'],\n",
    "  ['hari',56,'Lalitpur']]\n",
    "name= input('Enter Name: ')\n",
    "\n",
    "for i in info:\n",
    "    if i[0]==name:\n",
    "        print(i)\n",
    "    "
   ]
  },
  {
   "cell_type": "code",
   "execution_count": 22,
   "id": "76b0ed6a",
   "metadata": {},
   "outputs": [
    {
     "name": "stdout",
     "output_type": "stream",
     "text": [
      "[['Ram', 'Shyam', 'Hari'], [23, 45, 67], ['Kathmandu', 'Bhaktapur', 'Lalitpur']]\n"
     ]
    }
   ],
   "source": [
    "info=[['Ram','Shyam','Hari'],\n",
    "     [23,45,67],\n",
    "     ['Kathmandu','Bhaktapur','Lalitpur']]\n",
    "print(info)\n",
    "\n"
   ]
  },
  {
   "cell_type": "code",
   "execution_count": 23,
   "id": "36cb4806",
   "metadata": {},
   "outputs": [],
   "source": [
    "# WAP to create list inside list like above\n",
    "# WAP to create a matrix\n",
    "\n",
    "\n"
   ]
  },
  {
   "cell_type": "code",
   "execution_count": 24,
   "id": "a6fea7bc",
   "metadata": {},
   "outputs": [],
   "source": [
    "# Tuple\n",
    "# -Mulitple data\n",
    "# -Duplicate data\n",
    "# -Indexing\n",
    "# -Imutable datatype"
   ]
  },
  {
   "cell_type": "code",
   "execution_count": 27,
   "id": "acc2ba5b",
   "metadata": {},
   "outputs": [
    {
     "name": "stdout",
     "output_type": "stream",
     "text": [
      "<class 'tuple'> <class 'list'>\n"
     ]
    }
   ],
   "source": [
    "a=(1,2,3,4,5,6,7,8,9)\n",
    "b=['Apple',\"Ball\",\"Cat\"]\n",
    "print(type(a),type(b))"
   ]
  },
  {
   "cell_type": "code",
   "execution_count": null,
   "id": "6d9decfb",
   "metadata": {},
   "outputs": [],
   "source": []
  }
 ],
 "metadata": {
  "kernelspec": {
   "display_name": "Python 3 (ipykernel)",
   "language": "python",
   "name": "python3"
  },
  "language_info": {
   "codemirror_mode": {
    "name": "ipython",
    "version": 3
   },
   "file_extension": ".py",
   "mimetype": "text/x-python",
   "name": "python",
   "nbconvert_exporter": "python",
   "pygments_lexer": "ipython3",
   "version": "3.11.5"
  }
 },
 "nbformat": 4,
 "nbformat_minor": 5
}
